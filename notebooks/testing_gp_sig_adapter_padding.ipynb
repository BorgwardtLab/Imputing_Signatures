{
 "cells": [
  {
   "cell_type": "code",
   "execution_count": 104,
   "metadata": {},
   "outputs": [],
   "source": [
    "#import from top directory\n",
    "import sys\n",
    "sys.path.append('../')"
   ]
  },
  {
   "cell_type": "code",
   "execution_count": 105,
   "metadata": {},
   "outputs": [],
   "source": [
    "import torch\n",
    "import torch.nn as nn\n",
    "import numpy as np\n",
    "import matplotlib.pyplot as plt\n",
    "#from src.datasets import get_input_transform, get_collate_fn\n",
    "from src.datasets import Physionet2012\n",
    "from src.models import GP_Sig\n",
    "from src.utils.train_utils import count_parameters\n",
    "from src.training import TrainingLoop\n",
    "from exp.callbacks import LogTrainingLoss\n",
    "from torch.utils.data import DataLoader\n",
    "import gc\n",
    "import gpytorch\n",
    "from src.utils.train_utils import augment_labels"
   ]
  },
  {
   "cell_type": "code",
   "execution_count": 106,
   "metadata": {},
   "outputs": [],
   "source": [
    "# Parameter for test setting:\n",
    "data_format  = 'GP'\n",
    "grid_spacing = 1.\n",
    "device = 'cpu'\n"
   ]
  },
  {
   "cell_type": "code",
   "execution_count": 107,
   "metadata": {},
   "outputs": [],
   "source": [
    "from IPython import embed\n",
    "\n",
    "\"\"\"Module with util functions.\"\"\"\n",
    "from functools import partial\n",
    "import os\n",
    "from typing import List\n",
    "import pandas as pd\n",
    "import numpy as np\n",
    "import torch\n",
    "from collections import defaultdict\n",
    "\n",
    "\n",
    "# Customize input transform for debuggin!\n",
    "def to_gpytorch_format(d, grid_spacing=1.0):\n",
    "    \"\"\"Convert dictionary with data into the gpytorch format.\n",
    "\n",
    "    Args:\n",
    "        d: Dictionary with at least the following keys: time, values\n",
    "\n",
    "    Returns:\n",
    "        Dictionary where time and values are replaced with inputs, values and\n",
    "        indices.\n",
    "\n",
    "    \"\"\"\n",
    "    #embed(); print(1)##\n",
    "    time = d['time']\n",
    "    del d['time']\n",
    "    values = d['values']\n",
    "    valid_indices = np.where(np.isfinite(values))\n",
    "    #embed(); print(2)##\n",
    "    inputs = time[valid_indices[0]]\n",
    "    values_compact = values[valid_indices]\n",
    "    indexes = valid_indices[1]\n",
    "    d['inputs'] = inputs\n",
    "    d['values'] = values_compact\n",
    "    d['indices'] = indexes[..., np.newaxis]\n",
    "    #embed(); print(3)##\n",
    "    # Compute test points\n",
    "    max_input = np.max(inputs[:, 0])\n",
    "    min_input = np.min(inputs[:, 0])\n",
    "    #embed(); print(4)##\n",
    "    n_tasks = values.shape[-1]\n",
    "    d['n_tasks'] = n_tasks # is channel_dim\n",
    "    test_inputs = np.arange(min_input, max_input + grid_spacing, grid_spacing)\n",
    "    len_test_grid = len(test_inputs)\n",
    "    test_inputs = np.tile(test_inputs, n_tasks)\n",
    "    test_indices = np.repeat(np.arange(n_tasks), len_test_grid)\n",
    "    if n_tasks < 36:\n",
    "        print(f'n_tasks is {n_tasks} and smaller than 36!')\n",
    "    #embed(); print(5)##\n",
    "    d['test_inputs'] = test_inputs[:, np.newaxis].astype(np.float32)\n",
    "    d['test_indices'] = test_indices[:, np.newaxis].astype(np.int64)\n",
    "    #embed(); print(6)##\n",
    "    return d\n",
    "\n",
    "def get_input_transform(data_format, grid_spacing):\n",
    "    \"\"\"\n",
    "    Util function to return input transform of dataset, depending on data format\n",
    "    Args:\n",
    "        - data_format: which data format to use depends on model\n",
    "            'GP' for models using gpytorch\n",
    "            'imputed' for imputed baselines\n",
    "        - grid_spacing: number of hours between each query point / or imputed point depending on format\n",
    "    \"\"\"\n",
    "    if data_format == 'GP':\n",
    "        input_transform = partial(to_gpytorch_format, grid_spacing=grid_spacing)\n",
    "        return input_transform\n",
    "    elif data_format == 'imputed':\n",
    "        raise NotImplementedError('Pre-Imputed dataset not implemented yet!')\n",
    "    else:\n",
    "        raise ValueError('No valid data format provided!')\n",
    "        \n"
   ]
  },
  {
   "cell_type": "code",
   "execution_count": 151,
   "metadata": {},
   "outputs": [],
   "source": [
    "def get_max_shape(l):\n",
    "    \"\"\"Get maximum shape for all numpy arrays in list.\n",
    "\n",
    "    Args:\n",
    "        l: List of numpy arrays.\n",
    "\n",
    "    Returns:\n",
    "        Shape containing the max shape along each axis.\n",
    "\n",
    "    \"\"\"\n",
    "    shapes = np.array([el.shape for el in l])\n",
    "    return np.max(shapes, axis=0)\n",
    "\n",
    "\n",
    "def dict_collate_fn(instances, padding_values=None):\n",
    "    \"\"\"Collate function for a list of dictionaries.\n",
    "\n",
    "    Args:\n",
    "        instances: List of dictionaries with same keys.\n",
    "        padding_values: Dict with a subset of keys from instances, mapping them\n",
    "            to the values that should be used for padding. If not defined 0 is\n",
    "            used.\n",
    "\n",
    "    Returns:\n",
    "        Dictionary with instances padded and combined into tensors.\n",
    "\n",
    "    \"\"\"\n",
    "    \n",
    "    # Convert list of dicts to dict of lists\n",
    "    dict_of_lists = {\n",
    "        key: [d[key] for d in instances]\n",
    "        for key in instances[0].keys() if key != 'n_tasks'\n",
    "    }\n",
    "    #print(dict_of_lists.keys())\n",
    "    n_tasks = instances[0]['n_tasks']\n",
    "\n",
    "    # Pad instances to max shape\n",
    "    max_shapes = {\n",
    "        key: get_max_shape(value) for key, value in dict_of_lists.items()\n",
    "    }\n",
    "    #print(max_shapes)\n",
    "    padded_output = defaultdict(list)\n",
    "    # Pad with 0 in case not otherwise defined\n",
    "    padding_values = padding_values if padding_values else {}\n",
    "    padding_values = defaultdict(lambda: 0., padding_values.items())\n",
    "    for key, max_shape in max_shapes.items():\n",
    "        for instance in dict_of_lists[key]:\n",
    "            #print('key', key)\n",
    "            #print('shape', instance.shape)\n",
    "            #print('instance', instance)\n",
    "            instance_shape = np.array(instance.shape)\n",
    "            #print(f'Instance shape: {instance_shape}')\n",
    "            padding_shape = max_shape - instance_shape\n",
    "            #print(f'Padding shape: {padding_shape}')\n",
    "            # Numpy wants the padding in the form before, after so we need to\n",
    "            # prepend zeros\n",
    "            \n",
    "            if 'test_' in key:\n",
    "                #for GP format test inputs, test indices, put padded/invalid points\n",
    "                #directly in the time series between the channel switches for easier reshaping later \n",
    "                to_pad = padding_shape[0] # number of values to pad\n",
    "                if to_pad > 0: \n",
    "                    instance_len = instance_shape[0]\n",
    "                    #temporarily get rid of extra dim (for GP format):\n",
    "                    instance = instance[:,0]\n",
    "                    time_len = int(instance_len/n_tasks) #time_length of valid observation of current instance\n",
    "                    padding = np.repeat(padding_values[key], to_pad/n_tasks) #as to_pad counts all \n",
    "                    #padded values per multi variate time series\n",
    "                    total_padding = np.repeat(padding, n_tasks)\n",
    "                    padded_chunk_len = time_len + len(padding) #length of instance time series channel which was padded\n",
    "                    final_len = len(total_padding) + instance_len\n",
    "                    #print(f'final_len{final_len}')\n",
    "                    \n",
    "                    padded = np.zeros(final_len)\n",
    "                    for i in np.arange(n_tasks): # for each chunk to be padded\n",
    "                        instance_part = instance[i*time_len : (i+1)*time_len]\n",
    "                        padded_chunk = np.concatenate([instance_part, padding])\n",
    "                        padded[i*padded_chunk_len : (i+1)*padded_chunk_len] = padded_chunk              \n",
    "                    #add again the additional dim\n",
    "                    padded = padded[:, np.newaxis]\n",
    "                    if key == 'test_inputs': #make sure that format is correct\n",
    "                        padded = padded.astype(np.float32)\n",
    "                    else:\n",
    "                        padded = padded.astype(int)\n",
    "                else:\n",
    "                    padded = instance\n",
    "            else:\n",
    "                #perform standard padding\n",
    "                padding = np.stack(\n",
    "                    [np.zeros_like(padding_shape), padding_shape], axis=1)\n",
    "                padded = np.pad(\n",
    "                    instance,\n",
    "                    padding,\n",
    "                    mode='constant',\n",
    "                    constant_values=padding_values[key]\n",
    "                )\n",
    "            padded_output[key].append(padded)\n",
    "\n",
    "    # Combine instances into individual arrays\n",
    "    combined = {\n",
    "        key: torch.tensor(np.stack(values, axis=0))\n",
    "        for key, values in padded_output.items()\n",
    "    }\n",
    "\n",
    "    return combined\n",
    "\n",
    "def get_collate_fn(data_format, n_input_dims):\n",
    "    \"\"\"\n",
    "    Util function to retrun collate_fn which might depend on data format / used model\n",
    "    Args:\n",
    "        - data_format: which data format to use depends on model\n",
    "            'GP' for models using gpytorch\n",
    "            'imputed' for imputed baselines\n",
    "        - n_input_dims: number of input dims, the gpytorch implementation uses a dummy task for padded\n",
    "            values in the batch tensor (due to zero indexing it's exactly n_input_dims)\n",
    "    \"\"\"\n",
    "    if data_format == 'GP':\n",
    "        collate_fn = partial(\n",
    "            dict_collate_fn,\n",
    "            padding_values={\n",
    "                'indices': n_input_dims,\n",
    "                'test_indices': n_input_dims\n",
    "            }\n",
    "        )\n",
    "        return collate_fn\n",
    "    elif data_format == 'imputed':\n",
    "        raise NotImplementedError('Pre-Imputed dataset not implemented yet!')\n",
    "    else:\n",
    "        raise ValueError('No valid data format provided!')"
   ]
  },
  {
   "cell_type": "code",
   "execution_count": 77,
   "metadata": {},
   "outputs": [
    {
     "data": {
      "text/plain": [
       "(300,)"
      ]
     },
     "execution_count": 77,
     "metadata": {},
     "output_type": "execute_result"
    }
   ],
   "source": [
    "#Collate reshape of invalid observations:\n",
    "x = np.arange(200) # full flat instance\n",
    "# add additional dim:\n",
    "time_len  = 10 \n",
    "channel_dim = int(len(x) / instance_len)\n",
    "\n",
    "y = -1 # insert value\n",
    "to_pad = 5 #how many values to insert each time\n",
    "\n",
    "padding = np.repeat(y, to_pad)\n",
    "total_padding = np.repeat(padding, channel_dim)\n",
    "padded_chunk_len = time_len + len(padding)\n",
    "final_len = len(total_padding) + len(x)\n",
    "\n",
    "out = np.zeros(final_len)\n",
    "for i in np.arange(channel_dim): # for each chunk to be padded\n",
    "    instance_part = x[i*time_len : (i+1)*time_len]\n",
    "    padded_chunk = np.concatenate([instance_part, padding])\n",
    "    out[i*padded_chunk_len : (i+1)*padded_chunk_len] = padded_chunk\n",
    "out\n"
   ]
  },
  {
   "cell_type": "code",
   "execution_count": 125,
   "metadata": {},
   "outputs": [
    {
     "data": {
      "text/plain": [
       "array([0, 1, 2, 3, 4, 5, 6, 7, 8, 9])"
      ]
     },
     "execution_count": 125,
     "metadata": {},
     "output_type": "execute_result"
    }
   ],
   "source": [
    "np.arange(10)"
   ]
  },
  {
   "cell_type": "code",
   "execution_count": 72,
   "metadata": {},
   "outputs": [
    {
     "data": {
      "text/plain": [
       "array([-1, -1, -1, -1, -1,  3,  3])"
      ]
     },
     "execution_count": 72,
     "metadata": {},
     "output_type": "execute_result"
    }
   ],
   "source": [
    "y = -1 # insert value\n",
    "to_pad = 5 #how many values to insert each time\n",
    "padding = np.repeat(y, to_pad )\n",
    "np.concatenate([padding, [3,3]])"
   ]
  },
  {
   "cell_type": "code",
   "execution_count": 54,
   "metadata": {},
   "outputs": [
    {
     "data": {
      "text/plain": [
       "array([ 10.,  11.,  12.,  23.,  24.,  25.,  36.,  37.,  38.,  49.,  50.,\n",
       "        51.,  62.,  63.,  64.,  75.,  76.,  77.,  88.,  89.,  90., 101.,\n",
       "       102., 103., 114., 115., 116., 127., 128., 129., 140., 141., 142.,\n",
       "       153., 154., 155., 166., 167., 168., 179., 180., 181., 192., 193.,\n",
       "       194., 205., 206., 207., 218., 219., 220., 231., 232., 233., 244.,\n",
       "       245., 246., 257., 258., 259.])"
      ]
     },
     "execution_count": 54,
     "metadata": {},
     "output_type": "execute_result"
    }
   ],
   "source": [
    "np.array(locations).flatten()"
   ]
  },
  {
   "cell_type": "code",
   "execution_count": 32,
   "metadata": {},
   "outputs": [
    {
     "data": {
      "text/plain": [
       "array([0, 1, 2])"
      ]
     },
     "execution_count": 32,
     "metadata": {},
     "output_type": "execute_result"
    }
   ],
   "source": []
  },
  {
   "cell_type": "code",
   "execution_count": null,
   "metadata": {},
   "outputs": [],
   "source": [
    "padding_shape = [3,  0]\n",
    "padding = np.stack(\n",
    "    [np.zeros_like(padding_shape), padding_shape], axis=1)"
   ]
  },
  {
   "cell_type": "code",
   "execution_count": null,
   "metadata": {},
   "outputs": [],
   "source": []
  },
  {
   "cell_type": "markdown",
   "metadata": {},
   "source": [
    "## Set up dataset:\n"
   ]
  },
  {
   "cell_type": "code",
   "execution_count": 110,
   "metadata": {},
   "outputs": [],
   "source": [
    "#Define dataset transform:\n",
    "input_transform = get_input_transform(data_format, grid_spacing)\n",
    "train_dataset = Physionet2012(split = 'training', transform = input_transform)"
   ]
  },
  {
   "cell_type": "code",
   "execution_count": null,
   "metadata": {},
   "outputs": [],
   "source": [
    "\n",
    "dummy_d = Physionet2012(split='training')\n",
    "dummy_loader = DataLoader(dummy_d, batch_size=16, collate_fn=dict_collate_fn,\n",
    "                        shuffle=False, pin_memory=True, num_workers=1)"
   ]
  },
  {
   "cell_type": "code",
   "execution_count": null,
   "metadata": {},
   "outputs": [],
   "source": [
    "batch = next(iter(dummy_loader))\n"
   ]
  },
  {
   "cell_type": "code",
   "execution_count": null,
   "metadata": {
    "scrolled": true
   },
   "outputs": [],
   "source": [
    "batch['time']"
   ]
  },
  {
   "cell_type": "markdown",
   "metadata": {},
   "source": [
    "## Customizing Model classes for returning intermediate tensors"
   ]
  },
  {
   "cell_type": "code",
   "execution_count": 178,
   "metadata": {},
   "outputs": [],
   "source": [
    "# Exact Hadamard Multi-task Gaussian Process Model\n",
    "class MultitaskGPModel(gpytorch.models.ExactGP):\n",
    "    def __init__(self, train_x, train_y, likelihood, output_device, num_tasks=2, n_devices=1, kernel='rbf'):\n",
    "        super(MultitaskGPModel, self).__init__(train_x, train_y, likelihood)\n",
    "        self.output_device = output_device\n",
    "        self.mean_module = gpytorch.means.ConstantMean()\n",
    "        valid_kernels = ['rbf', 'ou']\n",
    "        if kernel not in valid_kernels:\n",
    "            raise ValueError(f'parsed kernel: {kernel} not among implemented kernels: {valid_kernels}')\n",
    "        elif kernel == 'rbf':\n",
    "            base_covar_module = gpytorch.kernels.RBFKernel()\n",
    "        elif kernel == 'ou':\n",
    "            base_covar_module = gpytorch.kernels.MaternKernel(nu=0.5)\n",
    "\n",
    "        if n_devices > 1: #in multi-gpu setting\n",
    "            self.covar_module = gpytorch.kernels.MultiDeviceKernel(\n",
    "                base_covar_module, device_ids=range(n_devices),\n",
    "                output_device=self.output_device)\n",
    "            #self.task_covar_module = gpytorch.kernels.IndexKernel(num_tasks=num_tasks, rank=3)\n",
    "            base_task_covar_module = gpytorch.kernels.IndexKernel(num_tasks=num_tasks, rank=3)\n",
    "            self.task_covar_module = gpytorch.kernels.MultiDeviceKernel(\n",
    "                base_task_covar_module, device_ids=range(n_devices),\n",
    "                output_device=self.output_device)\n",
    "        else:\n",
    "            self.covar_module = base_covar_module #gpytorch.kernels.RBFKernel()\n",
    "            self.task_covar_module = gpytorch.kernels.IndexKernel(num_tasks=num_tasks, rank=3)\n",
    "\n",
    "    def forward(self,x,i):\n",
    "        mean_x = self.mean_module(x)\n",
    "\n",
    "        # Get input-input covariance\n",
    "        covar_x = self.covar_module(x)\n",
    "        # Get task-task covariance\n",
    "        covar_i = self.task_covar_module(i)\n",
    "        # Multiply the two together to get the covariance we want\n",
    "        covar = covar_x.mul(covar_i)\n",
    "\n",
    "        return gpytorch.distributions.MultivariateNormal(mean_x, covar)\n",
    "\n",
    "\n",
    "# MGP Layer for Neural Network using MultitaskGPModel\n",
    "class MGP_Layer(MultitaskGPModel):\n",
    "    def __init__(self,likelihood, num_tasks, n_devices, output_device, kernel):\n",
    "        super().__init__(None, None, likelihood, output_device, num_tasks, n_devices, kernel)\n",
    "        #we don't intialize with train data for more flexibility\n",
    "        likelihood.train()\n",
    "\n",
    "    def forward(self, inputs, indices):\n",
    "        return super(MGP_Layer, self).forward(inputs, indices)\n",
    "\n",
    "    def condition_on_train_data(self, inputs, indices, values):\n",
    "        self.set_train_data(inputs=(inputs, indices), targets=values, strict=False)\n",
    "        \n",
    "# Custom GP Adapter:\n",
    "# MGP Adapter\n",
    "class GPAdapter(nn.Module):\n",
    "    def __init__(self, clf, n_input_dims, n_mc_smps, sampling_type, *gp_params):\n",
    "        super(GPAdapter, self).__init__()\n",
    "        self.n_mc_smps = n_mc_smps\n",
    "        # num_tasks includes dummy task for padedd zeros\n",
    "        self.n_tasks = gp_params[1] - 1\n",
    "        self.mgp = MGP_Layer(*gp_params)\n",
    "        self.clf = clf #(self.n_tasks)\n",
    "        #more generic would be something like: self.clf = clf(n_input_dims) #e.g. SimpleDeepModel(n_input_dims)\n",
    "        self.sampling_type = sampling_type # 'monte_carlo', 'moments'\n",
    "\n",
    "    def forward(self, *data):\n",
    "        \"\"\"\n",
    "        The GP Adapter takes input data as a list of 5 torch tensors (3 for train points, 2 for prediction points)\n",
    "            - inputs: input points of time grid (batch, timesteps, 1)\n",
    "            - indices: indices of task or channels (batch, timesteps, 1)\n",
    "            - values: values (or targets) of actual observations (batch, timesteps)\n",
    "            - test_inputs: query points in time (batch, timesteps, 1)\n",
    "            - test_indices: query tasks for given point in time (batch, timesteps, 1)\n",
    "        \"\"\"\n",
    "        self.posterior = self.gp_forward(*data)\n",
    "\n",
    "        inputs, indices, values, test_inputs, test_indices = data\n",
    "\n",
    "        #Get regularly-spaced \"latent\" timee series Z:\n",
    "        if self.sampling_type == 'monte_carlo':\n",
    "            #draw sample in MGP format (all tasks in same dimension)\n",
    "            Z = self.draw_samples(self.posterior, self.n_mc_smps)\n",
    "        elif self.sampling_type == 'moments':\n",
    "            #feed moments of GP posterior to classifier (mean, variance)\n",
    "            Z = self.feed_moments(self.posterior)\n",
    "\n",
    "        #reshape such that tensor has timesteps and tasks/channels in independent dimensions for Signature network:\n",
    "        Z, Z_raw = self.channel_reshape(Z)\n",
    "        #Z, Z_raw = self._channel_reshape(Z, test_indices)\n",
    "        #Z = self._collapse_tensor(Z)\n",
    "\n",
    "        return self.clf(Z), Z, Z_raw\n",
    "\n",
    "    def gp_forward(self, *data):\n",
    "        #Unpack data:\n",
    "        inputs, indices, values, test_inputs, test_indices = data\n",
    "\n",
    "        #Condition MGP on training data:\n",
    "        self.mgp.condition_on_train_data(inputs, indices, values)\n",
    "\n",
    "        #Return posterior distribution:\n",
    "        return self.mgp(test_inputs, test_indices)\n",
    "\n",
    "    def draw_samples(self, posterior, n_mc_smps):\n",
    "        #Draw monte carlo samples (with gradient) from posterior:\n",
    "        return posterior.rsample(torch.Size([n_mc_smps])) #mc_samples form a new (outermost) dimension\n",
    "\n",
    "    def feed_moments(self, posterior):\n",
    "        \"\"\"\n",
    "        Get mean and variance of posterior and concatenate them along the channel dimension for feeding them to feed the clf\n",
    "        \"\"\"\n",
    "        mean = posterior.mean\n",
    "        var = posterior.variance\n",
    "        return torch.cat([ mean, var ], axis=-1) # concat in channel dim\n",
    "        #return torch.stack([mean, var], axis=0) # stacked in a innermost dim to replace mc_smp dim\n",
    "\n",
    "    def parameters(self):\n",
    "        return list(self.mgp.parameters()) + list(self.clf.parameters())\n",
    "\n",
    "    def train(self, mode=True):\n",
    "        \"\"\"\n",
    "        only set classifier to train mode, MGP always in eval mode for posterior draws\n",
    "        \"\"\"\n",
    "        if mode:\n",
    "            super().train()\n",
    "            self.mgp.eval()\n",
    "        else:\n",
    "            super().train(False)\n",
    "\n",
    "    def eval(self):\n",
    "        \"\"\"\n",
    "        eval simply calls eval of super class (which in turn activates train with False)\n",
    "        \"\"\"\n",
    "        super().eval()\n",
    "\n",
    "    def channel_reshape(self, X):\n",
    "        \"\"\"\n",
    "        reshaping function required as hadamard MGP's output format is not directly compatible with subsequent network\n",
    "        \"\"\"\n",
    "        #first check if we have to doubele the number of channels\n",
    "        if self.sampling_type == 'moments':\n",
    "            channel_dim = 2*self.n_tasks\n",
    "        else:\n",
    "            channel_dim = self.n_tasks\n",
    "\n",
    "        X_reshaped = X.view(X.shape[:-1]                    #batch-dim (or mc_smp and batch_dim)\n",
    "            + torch.Size([channel_dim])                     #channel-dim\n",
    "            + torch.Size([int(X.shape[-1] / channel_dim)])  #time steps dim\n",
    "        )\n",
    "        # finally, swap last two dims: timestep and channel dim for Signature Augmentations\n",
    "        X_reshaped = X_reshaped.transpose(-2,-1)\n",
    "        \n",
    "        if self.sampling_type == 'monte_carlo':\n",
    "            X_reshaped = X_reshaped.flatten(0,1) #SigNet requires 3 dim setup, so we flatten out the mc dimension with batch\n",
    "        return X_reshaped, X\n",
    "    \n",
    "    def _channel_reshape(self, Z_raw, test_indices):\n",
    "        channel_dim = self.n_tasks\n",
    "        stats_dim  = Z_raw.shape[0] #either mc samples or [mean/var] dimension depending on sampling type\n",
    "        batch_size = Z_raw.shape[1]\n",
    "        #if self.sampling_type == 'moments':\n",
    "        #    channel_dim *= 2\n",
    "        max_len = int(Z_raw.shape[-1] / channel_dim) # max_len of time series in the batch\n",
    "        #print(f'Z_raw shape {Z_raw.shape}')\n",
    "        #print(f'channel_dim {channel_dim}')\n",
    "        #print(f'stats_dim {stats_dim}')\n",
    "        #print(f'batch_size {batch_size}')\n",
    "        #print(f'max_len {max_len}')\n",
    "        #print(f'test_indices shape: {test_indices.shape}')\n",
    "        \n",
    "        #initialise resulting tensor:\n",
    "        Z = torch.zeros([stats_dim, batch_size, max_len, channel_dim])\n",
    "        for sample in torch.arange(stats_dim):\n",
    "            for i in torch.arange(batch_size):\n",
    "                Z_raw_i = Z_raw[sample, i] # GP draw array of instance i, pooling all values in single vector\n",
    "                test_indices_i = test_indices[i].flatten() # array pointing to index of each value of raw gp output\n",
    "                # Create output channels:\n",
    "                for j in torch.arange(channel_dim):\n",
    "                    z_j = Z_raw_i[test_indices_i == j] #select all (time-ordered) values that belong to task/channel j\n",
    "                    #print(f'z_j: {z_j}')\n",
    "                    #print(f'z_j shape: {z_j.shape}')\n",
    "                    curr_len = z_j.shape[0] \n",
    "                    Z[sample, i, :curr_len, j] = z_j\n",
    "        return Z, Z_raw\n",
    "    \n",
    "    def _collapse_tensor(self, X):\n",
    "        \"\"\"\n",
    "        Util function to collapse tensor depending on sampling_type\n",
    "            - mc samples are joined in batch dimension\n",
    "            - moments are stacked in channel dimension\n",
    "        In dimensions:\n",
    "            [stats_dim, batch, length, channel]\n",
    "        Out dimension:\n",
    "            [batch, length, channel]\n",
    "        \"\"\"\n",
    "        if self.sampling_type == 'monte_carlo':\n",
    "            return X.flatten(0,1) # merge mc_smp and batch dim\n",
    "        elif self.sampling_type == 'moments':\n",
    "            #X = X.transpose(0,2).tranpose(0,1)\n",
    "            X = X.permute(1,2,0,3) \n",
    "            return X.flatten(-2,-1) #merge channel and moments dim\n",
    "    \n",
    "from src.models.deep_models import DeepSignatureModel\n",
    "\n",
    "class GP_Sig(nn.Module):\n",
    "    def __init__(self, n_input_dims, out_dimension, sampling_type, n_mc_smps,\n",
    "            n_devices, output_device, sig_depth=2, kernel='rbf'):\n",
    "        super(GP_Sig, self).__init__()\n",
    "\n",
    "        #safety guard:\n",
    "        self.sampling_type = sampling_type\n",
    "        if self.sampling_type == 'moments':\n",
    "            n_mc_smps = 1\n",
    "            # the classifier receives mean and variance of GPs posterior\n",
    "            clf_input_dims = 2*n_input_dims\n",
    "        else:\n",
    "            clf_input_dims = n_input_dims\n",
    "\n",
    "        likelihood = gpytorch.likelihoods.GaussianLikelihood().to(\n",
    "                        output_device, non_blocking=True)\n",
    "        clf = DeepSignatureModel(   in_channels=clf_input_dims,\n",
    "                                    out_dimension=out_dimension,\n",
    "                                    sig_depth=sig_depth\n",
    "                                )\n",
    "\n",
    "        self.model = GPAdapter( clf,\n",
    "                                None,\n",
    "                                n_mc_smps,\n",
    "                                sampling_type,\n",
    "                                likelihood,\n",
    "                                n_input_dims + 1,\n",
    "                                n_devices,\n",
    "                                output_device,\n",
    "                                kernel\n",
    "        )\n",
    "\n",
    "    def forward(self, *data):\n",
    "        return self.model(*data)"
   ]
  },
  {
   "cell_type": "markdown",
   "metadata": {},
   "source": [
    "## Setting up parameters for Model"
   ]
  },
  {
   "cell_type": "code",
   "execution_count": 215,
   "metadata": {},
   "outputs": [],
   "source": [
    "#Determine number of input dimensions as GP-Sig models requires this parameter for initialisation\n",
    "n_input_dims = train_dataset.measurement_dims\n",
    "out_dimension = train_dataset.n_classes\n",
    "collate_fn = get_collate_fn(data_format, n_input_dims)\n",
    "sampling_type = 'moments' #'monte_carlo'\n",
    "n_mc_smps = 3 # for debugging\n",
    "n_devices = 1\n",
    "output_device = 'cpu'"
   ]
  },
  {
   "cell_type": "markdown",
   "metadata": {},
   "source": [
    "## Initialize a standard GP-Sig adapter"
   ]
  },
  {
   "cell_type": "code",
   "execution_count": 216,
   "metadata": {
    "scrolled": true
   },
   "outputs": [
    {
     "name": "stdout",
     "output_type": "stream",
     "text": [
      "Number of trainable Parameters: 194900\n"
     ]
    }
   ],
   "source": [
    "model = GP_Sig(n_input_dims, \n",
    "               out_dimension, \n",
    "               sampling_type, \n",
    "               n_mc_smps, \n",
    "               n_devices, \n",
    "               output_device)\n",
    "model.to(device)\n",
    "print(f'Number of trainable Parameters: {count_parameters(model)}')"
   ]
  },
  {
   "cell_type": "code",
   "execution_count": 217,
   "metadata": {
    "scrolled": true
   },
   "outputs": [],
   "source": [
    "# Loss function:\n",
    "loss_fn = torch.nn.BCELoss()"
   ]
  },
  {
   "cell_type": "markdown",
   "metadata": {},
   "source": [
    "# Parameters for Training Loop"
   ]
  },
  {
   "cell_type": "code",
   "execution_count": 218,
   "metadata": {},
   "outputs": [],
   "source": [
    "n_epochs = 1\n",
    "batch_size = 32\n",
    "learning_rate = 0.001\n",
    "max_root = 25\n",
    "weight_decay = 1e-3\n",
    "callbacks = None\n",
    "virtual_batch_size = None"
   ]
  },
  {
   "cell_type": "code",
   "execution_count": 219,
   "metadata": {
    "scrolled": true
   },
   "outputs": [
    {
     "data": {
      "text/plain": [
       "GP_Sig(\n",
       "  (model): GPAdapter(\n",
       "    (mgp): MGP_Layer(\n",
       "      (likelihood): GaussianLikelihood(\n",
       "        (quadrature): GaussHermiteQuadrature1D()\n",
       "        (noise_covar): HomoskedasticNoise(\n",
       "          (raw_noise_constraint): GreaterThan(1.000E-04)\n",
       "        )\n",
       "      )\n",
       "      (mean_module): ConstantMean()\n",
       "      (covar_module): RBFKernel(\n",
       "        (raw_lengthscale_constraint): Positive()\n",
       "      )\n",
       "      (task_covar_module): IndexKernel(\n",
       "        (raw_var_constraint): Positive()\n",
       "      )\n",
       "    )\n",
       "    (clf): DeepSignatureModel(\n",
       "      (augment1): Augment(\n",
       "        activation=<function relu at 0x1202c7440>, include_original=True, include_time=True\n",
       "        (convs): ModuleList(\n",
       "          (0): Conv1d(72, 8, kernel_size=(4,), stride=(1,))\n",
       "          (1): Conv1d(8, 8, kernel_size=(1,), stride=(1,))\n",
       "          (2): Conv1d(8, 4, kernel_size=(1,), stride=(1,))\n",
       "        )\n",
       "      )\n",
       "      (signature1): Signature(depth=2, stream=True, inverse=False)\n",
       "      (augment2): Augment(\n",
       "        activation=<function relu at 0x1202c7440>, include_original=False, include_time=False\n",
       "        (convs): ModuleList(\n",
       "          (0): Conv1d(6006, 8, kernel_size=(4,), stride=(1,))\n",
       "          (1): Conv1d(8, 8, kernel_size=(1,), stride=(1,))\n",
       "          (2): Conv1d(8, 4, kernel_size=(1,), stride=(1,))\n",
       "        )\n",
       "      )\n",
       "      (signature2): Signature(depth=2, stream=False, inverse=False)\n",
       "      (linear): Linear(in_features=20, out_features=1, bias=True)\n",
       "      (sigmoid): Sigmoid()\n",
       "    )\n",
       "  )\n",
       ")"
      ]
     },
     "execution_count": 219,
     "metadata": {},
     "output_type": "execute_result"
    }
   ],
   "source": [
    "\n",
    "train_loader = DataLoader(train_dataset, batch_size=batch_size, collate_fn=collate_fn,\n",
    "                                  shuffle=False, pin_memory=True, num_workers=8)\n",
    "n_batches = len(train_loader)\n",
    "optimizer = torch.optim.Adam(\n",
    "            model.parameters(), lr=learning_rate,\n",
    "            weight_decay=weight_decay)\n",
    "optimizer.zero_grad()\n",
    "\n",
    "#d = next(iter(train_loader))\n",
    "d = next(iter(train_loader)) #[0]\n",
    "if n_mc_smps > 1:\n",
    "    y_true = augment_labels(d['label'], n_mc_smps)\n",
    "else:\n",
    "    y_true = d['label']\n",
    "#GP format of data:\n",
    "inputs = d['inputs']\n",
    "indices = d['indices']\n",
    "values = d['values']\n",
    "test_inputs = d['test_inputs']\n",
    "test_indices = d['test_indices']\n",
    "\n",
    "# Set model into training mode and feed forward\n",
    "model.train()\n",
    "\n"
   ]
  },
  {
   "cell_type": "code",
   "execution_count": 134,
   "metadata": {
    "scrolled": true
   },
   "outputs": [
    {
     "data": {
      "text/plain": [
       "torch.float64"
      ]
     },
     "execution_count": 134,
     "metadata": {},
     "output_type": "execute_result"
    }
   ],
   "source": [
    "#float64 before\n",
    "test_inputs.dtype"
   ]
  },
  {
   "cell_type": "code",
   "execution_count": 141,
   "metadata": {},
   "outputs": [],
   "source": [
    "x = np.arange(3).astype(np.float32)"
   ]
  },
  {
   "cell_type": "code",
   "execution_count": 140,
   "metadata": {},
   "outputs": [
    {
     "data": {
      "text/plain": [
       "torch.float64"
      ]
     },
     "execution_count": 140,
     "metadata": {},
     "output_type": "execute_result"
    }
   ],
   "source": [
    "torch.tensor(x).dtype"
   ]
  },
  {
   "cell_type": "code",
   "execution_count": 220,
   "metadata": {},
   "outputs": [],
   "source": [
    "with gpytorch.settings.fast_pred_var(), gpytorch.settings.max_root_decomposition_size(max_root):\n",
    "    logits, Z, Z_raw = model( inputs,\n",
    "                    indices,\n",
    "                    values,\n",
    "                    test_inputs,\n",
    "                    test_indices)"
   ]
  },
  {
   "cell_type": "code",
   "execution_count": null,
   "metadata": {},
   "outputs": [],
   "source": [
    "for name, param in model.named_parameters():\n",
    "    print(name, param)"
   ]
  },
  {
   "cell_type": "code",
   "execution_count": null,
   "metadata": {},
   "outputs": [],
   "source": [
    "model.model.mgp.task_covar_module.covar_factor[36:,:] = torch.zeros(3, requires_grad=False)\n",
    "model.model.mgp.task_covar_module.raw_var[36:] = torch.zeros(1, requires_grad=False)"
   ]
  },
  {
   "cell_type": "markdown",
   "metadata": {},
   "source": [
    "## Do one update step:\n"
   ]
  },
  {
   "cell_type": "code",
   "execution_count": null,
   "metadata": {},
   "outputs": [],
   "source": [
    "y_true = y_true.flatten()\n",
    "loss = loss_fn(logits, y_true)\n",
    "\n",
    "# Optimize\n",
    "optimizer.zero_grad()\n",
    "loss.backward()\n",
    "optimizer.step()"
   ]
  },
  {
   "cell_type": "code",
   "execution_count": null,
   "metadata": {},
   "outputs": [],
   "source": [
    "for name, param in model.model.mgp.named_parameters():\n",
    "    print(name, param)"
   ]
  },
  {
   "cell_type": "code",
   "execution_count": null,
   "metadata": {},
   "outputs": [],
   "source": [
    "model.model.mgp.task_covar_module.covar_factor"
   ]
  },
  {
   "cell_type": "markdown",
   "metadata": {},
   "source": [
    "## Plot one instance (Z imputed overlay with Z-raw)"
   ]
  },
  {
   "cell_type": "code",
   "execution_count": 240,
   "metadata": {},
   "outputs": [],
   "source": [
    "instance = 2 #2\n",
    "sample = 0"
   ]
  },
  {
   "cell_type": "code",
   "execution_count": 226,
   "metadata": {},
   "outputs": [
    {
     "data": {
      "text/plain": [
       "(torch.Size([32, 3528]), torch.Size([32, 49, 72]), torch.Size([32, 1764, 1]))"
      ]
     },
     "execution_count": 226,
     "metadata": {},
     "output_type": "execute_result"
    }
   ],
   "source": [
    "Z_raw.shape, Z.shape, test_inputs.shape"
   ]
  },
  {
   "cell_type": "code",
   "execution_count": 241,
   "metadata": {},
   "outputs": [
    {
     "data": {
      "text/plain": [
       "((3528,), (49, 72))"
      ]
     },
     "execution_count": 241,
     "metadata": {},
     "output_type": "execute_result"
    }
   ],
   "source": [
    "\n",
    "if sampling_type == 'monte_carlo':\n",
    "    Z_raw_i = Z_raw[sample, instance].detach().numpy()\n",
    "    Z_i = Z[instance + batch_size*sample].detach().numpy()\n",
    "else:\n",
    "    Z_raw_i = Z_raw[instance].detach().numpy()\n",
    "    Z_i = Z[instance].detach().numpy()\n",
    "Z_raw_i.shape, Z_i.shape"
   ]
  },
  {
   "cell_type": "code",
   "execution_count": 235,
   "metadata": {},
   "outputs": [
    {
     "data": {
      "text/plain": [
       "1764.0"
      ]
     },
     "execution_count": 235,
     "metadata": {},
     "output_type": "execute_result"
    }
   ],
   "source": [
    "Z_raw_i.shape[0]/2"
   ]
  },
  {
   "cell_type": "code",
   "execution_count": null,
   "metadata": {},
   "outputs": [],
   "source": [
    "#Z_new_i = Z_new[instance].detach().numpy()\n",
    "#Z_i = Z[instance].detach().numpy()"
   ]
  },
  {
   "cell_type": "code",
   "execution_count": null,
   "metadata": {},
   "outputs": [],
   "source": [
    "#Z_slow_i = Z_slow[sample, instance].detach().numpy()\n",
    "#Z_raw_i = Z_raw[sample ,instance].detach().numpy()\n"
   ]
  },
  {
   "cell_type": "code",
   "execution_count": null,
   "metadata": {},
   "outputs": [],
   "source": [
    "#Z_raw_i.shape, Z_new_i.shape"
   ]
  },
  {
   "cell_type": "code",
   "execution_count": null,
   "metadata": {},
   "outputs": [],
   "source": [
    "#Z[instance + batch_size*0].detach().numpy().shape"
   ]
  },
  {
   "cell_type": "code",
   "execution_count": 242,
   "metadata": {},
   "outputs": [],
   "source": [
    "test_inputs_i = test_inputs[instance].flatten()\n",
    "test_indices_i = test_indices[instance].flatten()"
   ]
  },
  {
   "cell_type": "code",
   "execution_count": 243,
   "metadata": {},
   "outputs": [
    {
     "data": {
      "text/plain": [
       "tensor(36)"
      ]
     },
     "execution_count": 243,
     "metadata": {},
     "output_type": "execute_result"
    }
   ],
   "source": [
    "max(test_indices_i)"
   ]
  },
  {
   "cell_type": "code",
   "execution_count": 238,
   "metadata": {},
   "outputs": [],
   "source": [
    "def plot_channels(channels_raw, channels, Z_i, Z_raw_i,test_indices_i, sampling_type, use_mean=True):\n",
    "    fig, ax = plt.subplots(1,2, figsize=(10,5))\n",
    "    for j in channels:\n",
    "        if not use_mean:\n",
    "            j += 36 #channel_dim, to access other part of tensor\n",
    "        #after reshaping:\n",
    "        x3 = Z_i[:,j] \n",
    "        ax[0].plot( x3, color='red')\n",
    "    for j in channels_raw:\n",
    "        #raw GP\n",
    "        if sampling_type == 'monte_carlo':\n",
    "            x_raw = Z_raw_i[test_indices_i == j]\n",
    "        else:\n",
    "            Z_raw_mean = Z_raw_i[:1764]\n",
    "            Z_raw_var = Z_raw_i[1764:]\n",
    "            if use_mean:\n",
    "                x_raw = Z_raw_mean[test_indices_i == j]\n",
    "            else: \n",
    "                x_raw = Z_raw_var[test_indices_i == j]\n",
    "        ax[1].plot( x_raw , color='blue')"
   ]
  },
  {
   "cell_type": "code",
   "execution_count": 246,
   "metadata": {},
   "outputs": [
    {
     "data": {
      "image/png": "[encoded data removed]",
      "text/plain": [
       "<Figure size 720x360 with 2 Axes>"
      ]
     },
     "metadata": {},
     "output_type": "display_data"
    }
   ],
   "source": [
    "ranges = [6]\n",
    "channels_raw = np.arange(*ranges)\n",
    "#channels = np.arange(0,72,2)\n",
    "channels = np.arange(*ranges)\n",
    "plot_channels(channels_raw, channels, Z_i, Z_raw_i,test_indices_i,sampling_type, use_mean=False)"
   ]
  },
  {
   "cell_type": "code",
   "execution_count": 174,
   "metadata": {},
   "outputs": [],
   "source": [
    "inp = Z_raw #_dummy.float()\n",
    "Z_new = new_reshape(inp,test_indices) #other\n",
    "Z_new_i = Z_new[0,instance].detach().numpy()\n",
    "\n",
    "Z_pad, Z_out = pad_reshape(inp,test_indices, padding_value=0)\n",
    "Z_pad_i = Z_pad[instance].detach().numpy()"
   ]
  },
  {
   "cell_type": "code",
   "execution_count": 176,
   "metadata": {},
   "outputs": [
    {
     "data": {
      "image/png": "[encoded data removed]",
      "text/plain": [
       "<Figure size 720x360 with 2 Axes>"
      ]
     },
     "metadata": {},
     "output_type": "display_data"
    }
   ],
   "source": [
    "channels_raw = np.arange(*ranges)\n",
    "#channels = np.arange(0,72,2)\n",
    "channels = np.arange(*ranges)\n",
    "plot_channels(channels_raw, channels, Z_new_i, Z_raw_i,test_indices_i)"
   ]
  },
  {
   "cell_type": "code",
   "execution_count": null,
   "metadata": {},
   "outputs": [],
   "source": []
  },
  {
   "cell_type": "code",
   "execution_count": 177,
   "metadata": {},
   "outputs": [
    {
     "data": {
      "image/png": "[encoded data removed]",
      "text/plain": [
       "<Figure size 720x360 with 2 Axes>"
      ]
     },
     "metadata": {},
     "output_type": "display_data"
    }
   ],
   "source": [
    "channels_raw = np.arange(*ranges)\n",
    "#channels = np.arange(0,72,2)\n",
    "channels = np.arange(*ranges)\n",
    "plot_channels(channels_raw, channels, Z_pad_i, Z_raw_i,test_indices_i)"
   ]
  },
  {
   "cell_type": "code",
   "execution_count": null,
   "metadata": {},
   "outputs": [],
   "source": [
    "#raw GP draw (Z) channnel j of instance i\n",
    "j = 4\n",
    "x_raw = Z_raw_i[test_indices_i == j]\n",
    "plt.plot( x_raw , color='blue')\n",
    "#x_raw\n",
    "\n",
    "#reshaped GP draw of channel j and instance i\n",
    "x3 = Z_i[:,j+36] \n",
    "plt.plot( x3, 'o',color='red')\n",
    "#x3"
   ]
  },
  {
   "cell_type": "code",
   "execution_count": null,
   "metadata": {},
   "outputs": [],
   "source": [
    "def test_reshape(Z_raw, Z_new, test_indices, batch_size=32, channel_dim=36):\n",
    "    for i in np.arange(batch_size):\n",
    "        instance = i\n",
    "        Z_i = Z_new[instance].detach().numpy()\n",
    "        Z_raw_i = Z_raw[0,instance].detach().numpy()\n",
    "        test_indices_i = test_indices[instance].flatten()\n",
    "        for j in np.arange(channel_dim):\n",
    "            if not Z_raw_i[test_indices_i == j] == Z_i[:,j]):\n",
    "                print(f'{Z_raw_i[test_indices_i == j]} and {Z_i[:,j]} not the same')    "
   ]
  },
  {
   "cell_type": "code",
   "execution_count": null,
   "metadata": {
    "scrolled": true
   },
   "outputs": [],
   "source": [
    "test_reshape(Z_raw, Z_new, test_indices)"
   ]
  },
  {
   "cell_type": "code",
   "execution_count": 161,
   "metadata": {},
   "outputs": [],
   "source": [
    "def new_reshape(Z_raw, test_indices, channel_dim = 36, padding_value=0, sampling_type='monte_carlo'):\n",
    "    #if sampling_type == 'moments':\n",
    "    #    #for consistency, transiently add mc_smp dimension:    \n",
    "    stats_dim  = Z_raw.shape[0] #either mc samples or [mean/var] dimension depending on sampling type\n",
    "    batch_size = Z_raw.shape[1]\n",
    "    max_len = int(Z_raw.shape[-1] / channel_dim) # max_len of time series in the batch\n",
    "    \n",
    "    #initialise resulting tensor:\n",
    "    Z = torch.zeros([stats_dim, batch_size, max_len, channel_dim])\n",
    "    for sample in torch.arange(stats_dim):\n",
    "        for i in torch.arange(batch_size):\n",
    "            #print(f'SAMPLE {i}')\n",
    "            #TODO adjust for multiple mc_smps!\n",
    "            Z_raw_i = Z_raw[sample, i] # GP draw array of instance i, pooling all values in single vector\n",
    "            test_indices_i = test_indices[i].flatten() # array pointing to index of each value of raw gp output\n",
    "            #test_inputs_i = test_inputs[i].flatten() # array pointing to time input of each value of raw gp output\n",
    "\n",
    "            # Create output channels:\n",
    "            for j in torch.arange(channel_dim):\n",
    "                z_j = Z_raw_i[test_indices_i == j] #select all (time-ordered) values that belong to task/channel j\n",
    "                curr_len = z_j.shape[0] \n",
    "                Z[sample, i, :curr_len, j] = z_j\n",
    "    return Z\n",
    "            \n",
    "def other_reshape(Z_raw, test_indices, test_inputs, channel_dim=36, padding_value=0):\n",
    "    Z_raw = Z_raw[0]\n",
    "    batch_size = Z_raw.shape[0]\n",
    "    max_len = int(Z_raw.shape[-1] / channel_dim)\n",
    "    Z = torch.zeros([batch_size, max_len, channel_dim])\n",
    "    instance_ids = torch.repeat_interleave(torch.arange(batch_size, dtype=int), max_len*channel_dim)\n",
    "    channel_ids = torch.repeat_interleave(torch.arange(channel_dim, dtype=int), max_len).repeat(batch_size)\n",
    "    time_ids = torch.arange(max_len, dtype=int).repeat(channel_dim).repeat(batch_size)\n",
    "    Z[(instance_ids, time_ids, channel_ids)] = Z_raw.flatten()\n",
    "    return Z"
   ]
  },
  {
   "cell_type": "code",
   "execution_count": 162,
   "metadata": {},
   "outputs": [],
   "source": [
    "def pad_reshape(Z_raw, test_indices, channel_dim=36, padding_value=0.):\n",
    "    Z_raw = Z_raw[0]\n",
    "    batch_size = Z_raw.shape[0]\n",
    "    max_len = int(Z_raw.shape[-1] / channel_dim)\n",
    "    Z = torch.zeros([batch_size, max_len, channel_dim])\n",
    "    \n",
    "    #as flattening goes along dimensions from outside to inside [0, 1, 2, ..], first permute axis:\n",
    "    #Z_raw = Z_raw.permute(1,0) #now, first dim is 1764 (tasks and timesteps collapsed), second is batch\n",
    "\n",
    "    instance_ids = torch.repeat_interleave(torch.arange(batch_size, dtype=int), max_len*channel_dim)\n",
    "    #array of each (max_len * channel_dim) batch_id: so [0,0,0 .. (1764 times), 1,1,1 ... (...) ... ,32 ,32 ,32]\n",
    "    \n",
    "    channel_ids = torch.repeat_interleave(torch.arange(channel_dim, dtype=int), max_len).repeat(batch_size)\n",
    "    #array of of each max_len times channel 0, .. channel 1, .. . this repeated batch_size times\n",
    "    \n",
    "    time_ids = torch.arange(max_len, dtype=int).repeat(channel_dim).repeat(batch_size)\n",
    "    \n",
    "    #before applying the indices, first MASK the invalid ones!\n",
    "    #test_indices_t = test_indices.permute(1,0,2)\n",
    "    test_indices_t = test_indices.squeeze(-1) # now format [channel*max_len, batch] which corresponds to Z_raw\n",
    "    \n",
    "    #valid_mask = [test_indices_t.flatten() != channel_dim]   \n",
    "    #Z[(instance_ids[valid_mask], time_ids[valid_mask], channel_ids[valid_mask])] = Z_raw.flatten()[valid_mask]\n",
    "    #return Z\n",
    "\n",
    "    #Alternative with inplace masking of invalid points (batch padded) \n",
    "    invalid_mask = [test_indices_t.flatten() == channel_dim]\n",
    "    Z_out = Z_raw.flatten()\n",
    "    Z_out[invalid_mask] = padding_value\n",
    "    Z[(instance_ids, time_ids, channel_ids)] = Z_out\n",
    "    return Z, Z_out"
   ]
  },
  {
   "cell_type": "code",
   "execution_count": null,
   "metadata": {},
   "outputs": [],
   "source": [
    "Z_new = new_reshape(Z_raw,test_indices) #other_reshape(Z_raw,test_indices, test_inputs)"
   ]
  },
  {
   "cell_type": "code",
   "execution_count": null,
   "metadata": {},
   "outputs": [],
   "source": [
    "test_ind_new = torch.cat([test_indices, test_indices], axis=1)"
   ]
  },
  {
   "cell_type": "code",
   "execution_count": null,
   "metadata": {},
   "outputs": [],
   "source": [
    "Z_pad = pad_reshape(Z_raw,test_indices, padding_value=0)"
   ]
  },
  {
   "cell_type": "code",
   "execution_count": null,
   "metadata": {},
   "outputs": [],
   "source": [
    "Z_raw_dummy = torch.arange(32*1764).reshape(1,32,1764)"
   ]
  },
  {
   "cell_type": "code",
   "execution_count": null,
   "metadata": {},
   "outputs": [],
   "source": [
    "(test_indices[7] == 36).sum()"
   ]
  },
  {
   "cell_type": "code",
   "execution_count": null,
   "metadata": {},
   "outputs": [],
   "source": []
  },
  {
   "cell_type": "code",
   "execution_count": null,
   "metadata": {},
   "outputs": [],
   "source": [
    "#Remove redundant dim:\n",
    "Z_raw_original = Z_raw[0]\n",
    "test_inputs_original = test_inputs.squeeze(-1)\n",
    "test_indices_original = test_indices.squeeze(-1)"
   ]
  },
  {
   "cell_type": "code",
   "execution_count": null,
   "metadata": {},
   "outputs": [],
   "source": [
    "plt.plot(test_indices_original.flatten())"
   ]
  },
  {
   "cell_type": "code",
   "execution_count": null,
   "metadata": {},
   "outputs": [],
   "source": [
    "i = 2\n",
    "test_indices_original_i = test_indices_original[i]\n",
    "plt.plot(test_indices_original_i)\n",
    "test_indices_original_i[-1]\n",
    "test_indices_original_i[:50]"
   ]
  },
  {
   "cell_type": "code",
   "execution_count": null,
   "metadata": {},
   "outputs": [],
   "source": []
  },
  {
   "cell_type": "code",
   "execution_count": null,
   "metadata": {},
   "outputs": [],
   "source": [
    "# Setting up test / dummy data for simplifying problem:\n",
    "batch_size = 10 # sample 2 has one padded step\n",
    "max_len = 3\n",
    "channel_dim = 4\n",
    "\n"
   ]
  },
  {
   "cell_type": "code",
   "execution_count": null,
   "metadata": {},
   "outputs": [],
   "source": [
    "test_indices_dummy = torch.zeros(3,4)"
   ]
  },
  {
   "cell_type": "code",
   "execution_count": null,
   "metadata": {},
   "outputs": [],
   "source": [
    "test_indices_dummy[0,-1] = 1."
   ]
  },
  {
   "cell_type": "code",
   "execution_count": null,
   "metadata": {},
   "outputs": [],
   "source": [
    "plt.plot(test_indices[0])"
   ]
  },
  {
   "cell_type": "code",
   "execution_count": null,
   "metadata": {},
   "outputs": [],
   "source": [
    "test_indices_t = test_indices.permute(1,0,2)\n",
    "test_indices_t = test_indices_t.squeeze(-1)\n",
    "valid_mask = [test_indices_t.flatten() != channel_dim]"
   ]
  },
  {
   "cell_type": "code",
   "execution_count": null,
   "metadata": {},
   "outputs": [],
   "source": [
    "Z_raw_prob = Z_raw[0][2].detach().numpy()\n",
    "Z_prob = Z[2][:,0].detach().numpy()"
   ]
  },
  {
   "cell_type": "code",
   "execution_count": null,
   "metadata": {},
   "outputs": [],
   "source": [
    "zeros = np.where(test_ind_prob == 24)"
   ]
  },
  {
   "cell_type": "code",
   "execution_count": null,
   "metadata": {},
   "outputs": [],
   "source": [
    "zeros"
   ]
  },
  {
   "cell_type": "code",
   "execution_count": null,
   "metadata": {},
   "outputs": [],
   "source": [
    "test_ind_prob = test_indices[2].flatten().numpy()"
   ]
  },
  {
   "cell_type": "code",
   "execution_count": null,
   "metadata": {},
   "outputs": [],
   "source": [
    "plt.plot(Z_raw_prob[test_ind_prob == 0])"
   ]
  },
  {
   "cell_type": "code",
   "execution_count": null,
   "metadata": {},
   "outputs": [],
   "source": [
    "plt.plot(Z_prob)"
   ]
  },
  {
   "cell_type": "code",
   "execution_count": null,
   "metadata": {},
   "outputs": [],
   "source": [
    "invalids = np.where(test_ind_prob == 36)[0]"
   ]
  },
  {
   "cell_type": "code",
   "execution_count": null,
   "metadata": {},
   "outputs": [],
   "source": []
  },
  {
   "cell_type": "code",
   "execution_count": null,
   "metadata": {},
   "outputs": [],
   "source": [
    "plt.plot(Z_prob[invalids])"
   ]
  },
  {
   "cell_type": "code",
   "execution_count": null,
   "metadata": {},
   "outputs": [],
   "source": [
    "(Z_pad == 0).sum() # we have zeros, as opposed to other_reshape.. but where are they?"
   ]
  },
  {
   "cell_type": "code",
   "execution_count": null,
   "metadata": {},
   "outputs": [],
   "source": [
    "(Z_raw.detach().numpy() == 0).sum()"
   ]
  },
  {
   "cell_type": "code",
   "execution_count": null,
   "metadata": {},
   "outputs": [],
   "source": [
    "Z_pad_i"
   ]
  },
  {
   "cell_type": "code",
   "execution_count": null,
   "metadata": {
    "scrolled": true
   },
   "outputs": [],
   "source": [
    "plt.plot(Z_pad_i.flatten()[:], '-o')\n",
    "Z_pad_i.flatten()[503]"
   ]
  },
  {
   "cell_type": "code",
   "execution_count": null,
   "metadata": {},
   "outputs": [],
   "source": [
    "plt.plot(Z_new_i.flatten()[:], '-o')\n",
    "Z_new_i.flatten()[503]"
   ]
  },
  {
   "cell_type": "code",
   "execution_count": null,
   "metadata": {},
   "outputs": [],
   "source": [
    "plt.plot(Z_new[0,0,:,35])"
   ]
  },
  {
   "cell_type": "code",
   "execution_count": null,
   "metadata": {},
   "outputs": [],
   "source": [
    "plt.plot(Z_pad[0,:,35])"
   ]
  },
  {
   "cell_type": "code",
   "execution_count": null,
   "metadata": {},
   "outputs": [],
   "source": [
    "plt.plot(Z_new_i.flatten()[1726:2100], '-o')\n",
    "Z_new_i.flatten()[1728]"
   ]
  },
  {
   "cell_type": "code",
   "execution_count": null,
   "metadata": {
    "scrolled": false
   },
   "outputs": [],
   "source": [
    "test_indices_i = test_indices[instance].flatten()"
   ]
  },
  {
   "cell_type": "code",
   "execution_count": null,
   "metadata": {},
   "outputs": [],
   "source": [
    "torch.where(test_indices_i == 36)"
   ]
  },
  {
   "cell_type": "code",
   "execution_count": null,
   "metadata": {},
   "outputs": [],
   "source": [
    "x = torch.arange(24).reshape(4,6)"
   ]
  },
  {
   "cell_type": "code",
   "execution_count": null,
   "metadata": {},
   "outputs": [],
   "source": [
    "x.flatten()"
   ]
  },
  {
   "cell_type": "code",
   "execution_count": null,
   "metadata": {},
   "outputs": [],
   "source": [
    "plt.plot(Z.flatten()==0)"
   ]
  },
  {
   "cell_type": "code",
   "execution_count": null,
   "metadata": {},
   "outputs": [],
   "source": [
    "Z_pad.flatten().detach().numpy()==0"
   ]
  },
  {
   "cell_type": "code",
   "execution_count": null,
   "metadata": {},
   "outputs": [],
   "source": [
    "(Z_new == 0).sum()"
   ]
  },
  {
   "cell_type": "code",
   "execution_count": null,
   "metadata": {},
   "outputs": [],
   "source": [
    "(test_indices_t.flatten() == channel_dim).sum()"
   ]
  },
  {
   "cell_type": "code",
   "execution_count": null,
   "metadata": {},
   "outputs": [],
   "source": [
    "a = torch.zeros([3,3])\n",
    "b = torch.ones([3,3])\n",
    "c = torch.stack([a,b], axis=0)"
   ]
  },
  {
   "cell_type": "code",
   "execution_count": null,
   "metadata": {},
   "outputs": [],
   "source": [
    "x = torch.arange(24).reshape(2,3,4)"
   ]
  },
  {
   "cell_type": "code",
   "execution_count": null,
   "metadata": {},
   "outputs": [],
   "source": [
    "plt.plot(test_indices.flatten().numpy())"
   ]
  },
  {
   "cell_type": "code",
   "execution_count": null,
   "metadata": {},
   "outputs": [],
   "source": [
    "test_indices_t = test_indices.permute(1,0,2)"
   ]
  },
  {
   "cell_type": "code",
   "execution_count": null,
   "metadata": {},
   "outputs": [],
   "source": [
    "test_indices_t = test_indices_t.squeeze(-1) "
   ]
  },
  {
   "cell_type": "code",
   "execution_count": null,
   "metadata": {},
   "outputs": [],
   "source": [
    "test_indices_t.flatten()"
   ]
  },
  {
   "cell_type": "code",
   "execution_count": null,
   "metadata": {},
   "outputs": [],
   "source": [
    "[test_indices_t.flatten() != channel_dim]"
   ]
  },
  {
   "cell_type": "code",
   "execution_count": null,
   "metadata": {},
   "outputs": [],
   "source": [
    "Z_test = Z_raw[0]\n",
    "Z_test_p = Z_test.permute(1,0)"
   ]
  },
  {
   "cell_type": "code",
   "execution_count": null,
   "metadata": {},
   "outputs": [],
   "source": [
    "Z_test.shape, Z_test_p.shape\n"
   ]
  },
  {
   "cell_type": "code",
   "execution_count": null,
   "metadata": {},
   "outputs": [],
   "source": []
  },
  {
   "cell_type": "code",
   "execution_count": null,
   "metadata": {},
   "outputs": [],
   "source": []
  },
  {
   "cell_type": "code",
   "execution_count": null,
   "metadata": {
    "scrolled": true
   },
   "outputs": [],
   "source": [
    "Z_slow = new_reshape(Z_raw, test_indices, channel_dim = 72, sampling_type='moments') #36"
   ]
  },
  {
   "cell_type": "code",
   "execution_count": null,
   "metadata": {},
   "outputs": [],
   "source": [
    "Z_slow.transpose(0,1).transpose(0,2).shape"
   ]
  },
  {
   "cell_type": "code",
   "execution_count": null,
   "metadata": {},
   "outputs": [],
   "source": [
    "channel_ids[:49+1]\n",
    "#plt.plot(channel_ids.numpy())\n"
   ]
  },
  {
   "cell_type": "code",
   "execution_count": null,
   "metadata": {},
   "outputs": [],
   "source": [
    "samp = 0\n",
    "plt.plot(test_indices[samp].numpy()) \n",
    "print(test_indices[samp].numpy().max())"
   ]
  },
  {
   "cell_type": "code",
   "execution_count": null,
   "metadata": {},
   "outputs": [],
   "source": [
    "test_inputs[0].flatten()[:200]"
   ]
  },
  {
   "cell_type": "code",
   "execution_count": null,
   "metadata": {},
   "outputs": [],
   "source": [
    "plt.plot(time_ids[:200])"
   ]
  },
  {
   "cell_type": "code",
   "execution_count": null,
   "metadata": {},
   "outputs": [],
   "source": [
    "batch_size=32; channel_dim=36; max_len = int(Z_raw.shape[-1] / channel_dim)\n",
    "instance_ids = torch.repeat_interleave(torch.arange(batch_size, dtype=int), max_len*channel_dim)\n",
    "channel_ids = torch.repeat_interleave(torch.arange(channel_dim, dtype=int), max_len).repeat(batch_size)\n",
    "time_ids = torch.arange(max_len, dtype=int).repeat(channel_dim).repeat(batch_size)"
   ]
  },
  {
   "cell_type": "code",
   "execution_count": null,
   "metadata": {},
   "outputs": [],
   "source": [
    "pos = 3\n",
    "print( instance_ids[pos], time_ids[pos], channel_ids[pos] )\n"
   ]
  },
  {
   "cell_type": "code",
   "execution_count": null,
   "metadata": {},
   "outputs": [],
   "source": [
    "plt.plot(channel_ids.numpy()[:200]) \n"
   ]
  },
  {
   "cell_type": "code",
   "execution_count": null,
   "metadata": {},
   "outputs": [],
   "source": [
    "plt.plot( test_indices[0].flatten()[:200])"
   ]
  },
  {
   "cell_type": "code",
   "execution_count": null,
   "metadata": {},
   "outputs": [],
   "source": [
    "new_reshape(Z_raw, test_indices, test_inputs)"
   ]
  },
  {
   "cell_type": "code",
   "execution_count": null,
   "metadata": {},
   "outputs": [],
   "source": [
    "#Get instance i\n",
    "test_inputs_first = test_inputs[instance].flatten()\n",
    "test_indices_first = test_indices[instance].flatten()\n",
    "inputs_first = inputs[instance].flatten()\n",
    "indices_first = indices[instance].flatten()\n",
    "values_first = values[instance]"
   ]
  },
  {
   "cell_type": "code",
   "execution_count": null,
   "metadata": {},
   "outputs": [],
   "source": []
  },
  {
   "cell_type": "code",
   "execution_count": null,
   "metadata": {},
   "outputs": [],
   "source": [
    "def plot_instance(instance, Z, Z_raw, test_inputs, \n",
    "                  test_indices, inputs, indices, \n",
    "                  values, show_channels='all', show_type=['gp', 'gp_reshaped', 'input'], \n",
    "                 n_mc_smps=1, batch_size=32):\n",
    "    \"\"\"\n",
    "    Plot GP posterior sample of patient\n",
    "    - Z_raw: posterior draw (in raw format before reshaping for clf)\n",
    "    - test_inputs: (time grid to query the GP)\n",
    "    - test_indices: tasks indices to query the GP\n",
    "    \"\"\"\n",
    "    test_inputs_i = test_inputs[instance].flatten() # query grid points \n",
    "    test_indices_i = test_indices[instance].flatten() # query task indices\n",
    "    inputs_i = inputs[instance].flatten() # training time points\n",
    "    indices_i = indices[instance].flatten() # training task indices\n",
    "    values_i = values[instance] # training y values\n",
    "\n",
    "    if show_channels == 'all':\n",
    "        show_channels = np.unique(test_indices_i)\n",
    "        n_channels = len(show_channels)\n",
    "    else:\n",
    "        n_channels = len(show_channels)\n",
    "    fig, ax = plt.subplots(nrows=n_channels, figsize=(5*n_channels, 4*n_channels))\n",
    "\n",
    "    for sample in np.arange(n_mc_smps):\n",
    "        #first extract data of instance:\n",
    "        Z_i = Z[instance + batch_size*sample]\n",
    "        Z_i = Z_i.detach().numpy() #reshaped GP draw\n",
    "        Z_raw_i = Z_raw[sample,instance] #raw GP draw\n",
    "        Z_raw_i = Z_raw_i.detach().numpy()\n",
    "\n",
    "        for i, channel in enumerate(show_channels):\n",
    "            if sample == 0:\n",
    "                if 'input' in show_type:\n",
    "                    plot_channel(ax[i], values_i, inputs_i, indices_i, channel, color='darkblue')\n",
    "            if 'gp' in show_type:\n",
    "                plot_channel(ax[i], Z_raw_i, test_inputs_i, test_indices_i, channel)\n",
    "            if 'gp_reshaped' in show_type:\n",
    "                plot_reshaped_channel(ax[i], Z_i, test_inputs_i, channel, color='green')"
   ]
  },
  {
   "cell_type": "code",
   "execution_count": null,
   "metadata": {},
   "outputs": [],
   "source": [
    "def plot_channel(ax, Z_raw, test_inputs, test_indices, channel, color='red'):\n",
    "    x = test_inputs[test_indices == channel]\n",
    "    y = Z_raw[test_indices == channel]\n",
    "    ax.plot(x,y, '-o', color=color)\n",
    "    ax.set_xlabel(f'Channel {channel}')"
   ]
  },
  {
   "cell_type": "code",
   "execution_count": null,
   "metadata": {},
   "outputs": [],
   "source": [
    "def plot_reshaped_channel(ax, Z, test_inputs, channel, color='green'):\n",
    "    x = np.unique(test_inputs)\n",
    "    #x = test_inputs\n",
    "    print(x.shape)\n",
    "    print(f'Z shape in plot reshaped: {Z.shape}')\n",
    "    y = Z[:,channel]\n",
    "    if y.shape[0] > x.shape[0]:\n",
    "        diff = y.shape[0] - x.shape[0]\n",
    "        x = np.pad(x, (0, diff))\n",
    "    print(y.shape)\n",
    "    ax.plot(x,y, 'o', color=color)\n",
    "    #ax.plot(y, '-o', color=color)"
   ]
  },
  {
   "cell_type": "code",
   "execution_count": null,
   "metadata": {
    "scrolled": false
   },
   "outputs": [],
   "source": [
    "plot_instance(6, Z, Z_raw, test_inputs, \n",
    "              test_indices, inputs, indices, \n",
    "              values, show_channels=[14, 23], \n",
    "              show_type=['input', 'gp'],\n",
    "              n_mc_smps=n_mc_smps,\n",
    "              batch_size=batch_size)"
   ]
  },
  {
   "cell_type": "code",
   "execution_count": null,
   "metadata": {},
   "outputs": [],
   "source": [
    "plot_instance(6, Z, Z_raw, test_inputs, \n",
    "              test_indices, inputs, indices, \n",
    "              values, show_channels=[14, 23], \n",
    "              show_type=['input', 'gp_reshaped'],\n",
    "              n_mc_smps=n_mc_smps,\n",
    "              batch_size=batch_size)"
   ]
  },
  {
   "cell_type": "code",
   "execution_count": null,
   "metadata": {},
   "outputs": [],
   "source": [
    "x = np.arange(10)\n",
    "np.pad(x,(0,2))"
   ]
  },
  {
   "cell_type": "code",
   "execution_count": null,
   "metadata": {
    "scrolled": true
   },
   "outputs": [],
   "source": [
    "plot_instance(0, Z, Z_raw, test_inputs, \n",
    "              test_indices, inputs, indices, \n",
    "              values, show_channels=[14,21], #[14, 36] \n",
    "              show_type=['input', 'gp_reshaped'],\n",
    "              n_mc_smps=n_mc_smps,\n",
    "              batch_size=batch_size)"
   ]
  },
  {
   "cell_type": "code",
   "execution_count": null,
   "metadata": {},
   "outputs": [],
   "source": [
    "np.unique(test_inputs_first)"
   ]
  },
  {
   "cell_type": "code",
   "execution_count": null,
   "metadata": {
    "scrolled": false
   },
   "outputs": [],
   "source": [
    "plot_instance(Z_raw_first, \n",
    "              test_inputs_first, \n",
    "              test_indices_first, \n",
    "              show_channels='all')"
   ]
  },
  {
   "cell_type": "code",
   "execution_count": null,
   "metadata": {},
   "outputs": [],
   "source": [
    "test_indices_first == channel"
   ]
  },
  {
   "cell_type": "code",
   "execution_count": null,
   "metadata": {},
   "outputs": [],
   "source": [
    "Z_raw_first.shape"
   ]
  },
  {
   "cell_type": "code",
   "execution_count": null,
   "metadata": {},
   "outputs": [],
   "source": [
    "# Custom TrainingLoop:\n",
    "\"\"\"Training classes.\"\"\"\n",
    "import gc\n",
    "import gpytorch\n",
    "import torch\n",
    "from torch.utils.data import DataLoader\n",
    "import numpy as np\n",
    "from src.utils.train_utils import augment_labels\n",
    "\n",
    "\n",
    "class CustomTrainingLoop():\n",
    "    \"\"\"Training a model using a dataset.\"\"\"\n",
    "\n",
    "    def __init__(self, model, dataset, data_format, loss_fn, collate_fn, n_epochs, batch_size, virtual_batch_size, learning_rate,\n",
    "                 n_mc_smps=1, max_root=25, weight_decay=1e-5, device='cuda', callbacks=None):\n",
    "        \"\"\"Training of a model using a dataset and the defined callbacks.\n",
    "\n",
    "        Args:\n",
    "            model: GP_Sig, competitor\n",
    "            dataset: Dataset\n",
    "            n_epochs: Number of epochs to train\n",
    "            batch_size: Batch size\n",
    "            learning_rate: Learning rate\n",
    "            callbacks: List of callbacks\n",
    "        \"\"\"\n",
    "        self.model = model\n",
    "        self.dataset = dataset\n",
    "        self.data_format = data_format\n",
    "        self.loss_fn = loss_fn\n",
    "        self.collate_fn = collate_fn\n",
    "        self.n_epochs = n_epochs\n",
    "        self.batch_size = batch_size\n",
    "        self.virtual_batch_size = virtual_batch_size\n",
    "        self.learning_rate = learning_rate\n",
    "        self.n_mc_smps = n_mc_smps\n",
    "        self.max_root = max_root\n",
    "        self.weight_decay = weight_decay\n",
    "        self.device = device\n",
    "        self.callbacks = callbacks if callbacks else []\n",
    "\n",
    "    def _execute_callbacks(self, hook, local_variables):\n",
    "        stop = False\n",
    "        for callback in self.callbacks:\n",
    "            # Convert return value to bool --> if callback doesn't return\n",
    "            # anything we interpret it as False\n",
    "            stop |= bool(getattr(callback, hook)(**local_variables))\n",
    "        return stop\n",
    "\n",
    "    def on_epoch_begin(self, local_variables):\n",
    "        \"\"\"Call callbacks before an epoch begins.\"\"\"\n",
    "        return self._execute_callbacks('on_epoch_begin', local_variables)\n",
    "\n",
    "    def on_epoch_end(self, local_variables):\n",
    "        \"\"\"Call callbacks after an epoch is finished.\"\"\"\n",
    "        return self._execute_callbacks('on_epoch_end', local_variables)\n",
    "    \n",
    "    def on_batch_begin(self, local_variables):\n",
    "        \"\"\"Call callbacks before a batch is being processed.\"\"\"\n",
    "        self._execute_callbacks('on_batch_begin', local_variables)\n",
    "\n",
    "    def on_batch_end(self, local_variables):\n",
    "        \"\"\"Call callbacks after a batch has be processed.\"\"\"\n",
    "        self._execute_callbacks('on_batch_end', local_variables)\n",
    "\n",
    "    def on_train_end(self, local_variables):\n",
    "        \"\"\"Call callbacks after training is finished.\"\"\"\n",
    "        self._execute_callbacks('on_train_end', local_variables)\n",
    "\n",
    "    # pylint: disable=W0641\n",
    "    def __call__(self):\n",
    "        \"\"\"Execute the training loop.\"\"\"\n",
    "        model = self.model\n",
    "        dataset = self.dataset\n",
    "        n_epochs = self.n_epochs\n",
    "        batch_size = self.batch_size\n",
    "        virtual_batch_size = self.virtual_batch_size\n",
    "        if virtual_batch_size is not None:\n",
    "            virtual_scaling = virtual_batch_size / batch_size\n",
    "            if virtual_batch_size == batch_size: #if virtual batch_size is 'inactive' / same as bs, set it to None\n",
    "                virtual_batch_size = None\n",
    "        learning_rate = self.learning_rate\n",
    "        n_mc_smps = self.n_mc_smps\n",
    "        collate_fn = self.collate_fn\n",
    "\n",
    "        n_instances = len(dataset)\n",
    "        train_loader = DataLoader(dataset, batch_size=batch_size, collate_fn=collate_fn,\n",
    "                                  shuffle=True, pin_memory=True, num_workers=8) #drop_last=True)\n",
    "        n_batches = len(train_loader)\n",
    "\n",
    "        optimizer = torch.optim.Adam(\n",
    "            model.parameters(), lr=learning_rate,\n",
    "            weight_decay=self.weight_decay)\n",
    "\n",
    "        epoch = 1\n",
    "        for epoch in range(1, n_epochs+1):\n",
    "            if self.on_epoch_begin(remove_self(locals())):\n",
    "                break\n",
    "            optimizer.zero_grad()\n",
    "            for batch, d in enumerate(train_loader):\n",
    "                #if we use mc sampling, expand labels to match multiple predictions\n",
    "                if n_mc_smps > 1:\n",
    "                    y_true = augment_labels(d['label'], n_mc_smps)\n",
    "                else:\n",
    "                    y_true = d['label']\n",
    "\n",
    "                if self.data_format == 'GP':\n",
    "                    #GP format of data:\n",
    "                    inputs = d['inputs']\n",
    "                    indices = d['indices']\n",
    "                    values = d['values']\n",
    "                    test_inputs = d['test_inputs']\n",
    "                    test_indices = d['test_indices']\n",
    "\n",
    "                    if self.device == 'cuda':\n",
    "                        inputs  = inputs.cuda(non_blocking = True)\n",
    "                        indices = indices.cuda(non_blocking = True)\n",
    "                        values  = values.cuda(non_blocking = True)\n",
    "                        test_inputs = test_inputs.cuda(non_blocking = True)\n",
    "                        test_indices = test_indices.cuda(non_blocking = True)\n",
    "                else:\n",
    "                    raise NotImplementedError('Trainloop for other data formats not implemented yet.')\n",
    "\n",
    "                self.on_batch_begin(remove_self(locals()))\n",
    "\n",
    "                # Set model into training mode and feed forward\n",
    "                model.train()\n",
    "\n",
    "                if self.data_format == 'GP':\n",
    "                    with gpytorch.settings.fast_pred_var(), gpytorch.settings.max_root_decomposition_size(self.max_root):\n",
    "                        logits = model( inputs,\n",
    "                                        indices,\n",
    "                                        values,\n",
    "                                        test_inputs,\n",
    "                                        test_indices)\n",
    "\n",
    "                #Compute Loss:\n",
    "                if self.device == 'cuda':\n",
    "                    y_true = y_true.flatten().cuda(non_blocking=True)\n",
    "                else:\n",
    "                    y_true = y_true.flatten()\n",
    "\n",
    "                loss = self.loss_fn(logits, y_true)\n",
    "\n",
    "                if virtual_batch_size is not None:\n",
    "                    if (batch + 1) % virtual_scaling == 0:\n",
    "                        # Optimize\n",
    "                        optimizer.step()\n",
    "                        optimizer.zero_grad()\n",
    "                        # Call callbacks\n",
    "                        self.on_batch_end(remove_self(locals()))\n",
    "                    loss = loss / virtual_scaling\n",
    "                    loss.backward()\n",
    "\n",
    "                else:\n",
    "                    # Optimize\n",
    "                    optimizer.zero_grad()\n",
    "                    loss.backward()\n",
    "                    optimizer.step()\n",
    "\n",
    "                    # Call callbacks\n",
    "                    self.on_batch_end(remove_self(locals()))\n",
    "                \n",
    "                # Clean memory\n",
    "                torch.cuda.empty_cache()\n",
    "                gc.collect()\n",
    "\n",
    "            if self.on_epoch_end(remove_self(locals())):\n",
    "                break\n",
    "        self.on_train_end(remove_self(locals()))\n"
   ]
  },
  {
   "cell_type": "code",
   "execution_count": null,
   "metadata": {},
   "outputs": [],
   "source": []
  }
 ],
 "metadata": {
  "kernelspec": {
   "display_name": "GP_sig",
   "language": "python",
   "name": "gp_sig"
  },
  "language_info": {
   "codemirror_mode": {
    "name": "ipython",
    "version": 3
   },
   "file_extension": ".py",
   "mimetype": "text/x-python",
   "name": "python",
   "nbconvert_exporter": "python",
   "pygments_lexer": "ipython3",
   "version": "3.7.4"
  }
 },
 "nbformat": 4,
 "nbformat_minor": 2
}
