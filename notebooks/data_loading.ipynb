{
 "cells": [
  {
   "cell_type": "code",
   "execution_count": 4,
   "metadata": {},
   "outputs": [],
   "source": [
    "from torch.utils.data import DataLoader\n",
    "import sys\n",
    "sys.path.append('../')\n",
    "from src.datasets import Physionet2012, dict_collate_fn"
   ]
  },
  {
   "cell_type": "code",
   "execution_count": 5,
   "metadata": {},
   "outputs": [],
   "source": [
    "\n",
    "dataset = Physionet2012(split='training')\n",
    "dataset_loader = DataLoader(dataset, batch_size=16, collate_fn=dict_collate_fn,\n",
    "                        shuffle=False, pin_memory=True)"
   ]
  },
  {
   "cell_type": "code",
   "execution_count": 7,
   "metadata": {},
   "outputs": [],
   "source": [
    "batch = next(iter(dataset_loader))"
   ]
  },
  {
   "cell_type": "code",
   "execution_count": 13,
   "metadata": {},
   "outputs": [
    {
     "data": {
      "text/plain": [
       "dict_keys(['time', 'values', 'label'])"
      ]
     },
     "execution_count": 13,
     "metadata": {},
     "output_type": "execute_result"
    }
   ],
   "source": [
    "batch.keys() # dict of following keys containing each a tensor"
   ]
  },
  {
   "cell_type": "code",
   "execution_count": 52,
   "metadata": {},
   "outputs": [
    {
     "data": {
      "text/plain": [
       "torch.Size([16, 125, 36])"
      ]
     },
     "execution_count": 52,
     "metadata": {},
     "output_type": "execute_result"
    }
   ],
   "source": [
    "# tensor shape: [bs, distinct times, channels]\n",
    "batch['values'].shape #contains nans for invalid points (no measurement at given time and channel)"
   ]
  },
  {
   "cell_type": "code",
   "execution_count": 50,
   "metadata": {},
   "outputs": [
    {
     "data": {
      "text/plain": [
       "tensor([[ 0.0000],\n",
       "        [ 0.2500],\n",
       "        [ 1.4167],\n",
       "        [ 2.0333],\n",
       "        [ 2.4167],\n",
       "        [ 2.8667],\n",
       "        [ 3.0333],\n",
       "        [ 3.8667],\n",
       "        [ 3.9000],\n",
       "        [ 3.9833],\n",
       "        [ 4.0667],\n",
       "        [ 4.1500],\n",
       "        [ 4.2333],\n",
       "        [ 4.3167],\n",
       "        [ 4.4000],\n",
       "        [ 4.4667],\n",
       "        [ 4.4833],\n",
       "        [ 4.5667],\n",
       "        [ 4.6500],\n",
       "        [ 4.7333],\n",
       "        [ 4.8167],\n",
       "        [ 4.9000],\n",
       "        [ 4.9833],\n",
       "        [ 5.0667],\n",
       "        [ 5.1500],\n",
       "        [ 5.2333],\n",
       "        [ 5.2500],\n",
       "        [ 5.4000],\n",
       "        [ 5.4667],\n",
       "        [ 6.4000],\n",
       "        [ 6.4667],\n",
       "        [ 6.6500],\n",
       "        [ 6.9000],\n",
       "        [ 7.1500],\n",
       "        [ 7.1667],\n",
       "        [ 7.4000],\n",
       "        [ 8.1667],\n",
       "        [ 8.4000],\n",
       "        [ 8.9000],\n",
       "        [ 8.9833],\n",
       "        [ 9.0667],\n",
       "        [ 9.1500],\n",
       "        [ 9.4000],\n",
       "        [ 9.8833],\n",
       "        [ 9.9000],\n",
       "        [10.4000],\n",
       "        [10.6833],\n",
       "        [10.8833],\n",
       "        [10.9000],\n",
       "        [11.4000],\n",
       "        [11.6500],\n",
       "        [11.7333],\n",
       "        [12.0667],\n",
       "        [12.4000],\n",
       "        [12.6500],\n",
       "        [13.4000],\n",
       "        [14.4000],\n",
       "        [14.9000],\n",
       "        [15.4000],\n",
       "        [15.6500],\n",
       "        [15.9000],\n",
       "        [15.9500],\n",
       "        [16.1500],\n",
       "        [16.4000],\n",
       "        [16.6500],\n",
       "        [16.8167],\n",
       "        [16.9500],\n",
       "        [17.4000],\n",
       "        [17.4500],\n",
       "        [18.4000],\n",
       "        [19.4000],\n",
       "        [20.4000],\n",
       "        [21.2667],\n",
       "        [21.4000],\n",
       "        [22.4000],\n",
       "        [23.2667],\n",
       "        [23.4000],\n",
       "        [24.0833],\n",
       "        [24.2667],\n",
       "        [24.4000],\n",
       "        [25.4000],\n",
       "        [26.4000],\n",
       "        [26.8500],\n",
       "        [27.4000],\n",
       "        [27.5000],\n",
       "        [27.8500],\n",
       "        [28.4000],\n",
       "        [28.6667],\n",
       "        [29.4000],\n",
       "        [30.4000],\n",
       "        [30.9000],\n",
       "        [31.4000],\n",
       "        [31.4333],\n",
       "        [32.4000],\n",
       "        [33.0500],\n",
       "        [33.4000],\n",
       "        [33.4833],\n",
       "        [33.6167],\n",
       "        [33.6500],\n",
       "        [34.0500],\n",
       "        [34.4000],\n",
       "        [35.0667],\n",
       "        [35.4000],\n",
       "        [35.9000],\n",
       "        [36.4000],\n",
       "        [36.9000],\n",
       "        [37.1500],\n",
       "        [37.2333],\n",
       "        [37.2500],\n",
       "        [37.4000],\n",
       "        [38.3833],\n",
       "        [38.4000],\n",
       "        [39.2000],\n",
       "        [39.3833],\n",
       "        [39.4000],\n",
       "        [40.4000],\n",
       "        [41.4000],\n",
       "        [42.4000],\n",
       "        [42.6500],\n",
       "        [43.4000],\n",
       "        [44.4000],\n",
       "        [45.4000],\n",
       "        [46.4000],\n",
       "        [46.4500],\n",
       "        [47.4000]])"
      ]
     },
     "execution_count": 50,
     "metadata": {},
     "output_type": "execute_result"
    }
   ],
   "source": [
    "# time steps of the first instance of batch #for shorter instance (eg. instance 1) this is \n",
    "# padded with zeros for tensor compatibility\n",
    "\n",
    "batch['time'][0]"
   ]
  },
  {
   "cell_type": "code",
   "execution_count": null,
   "metadata": {},
   "outputs": [],
   "source": []
  }
 ],
 "metadata": {
  "kernelspec": {
   "display_name": "GP_sig",
   "language": "python",
   "name": "gp_sig"
  },
  "language_info": {
   "codemirror_mode": {
    "name": "ipython",
    "version": 3
   },
   "file_extension": ".py",
   "mimetype": "text/x-python",
   "name": "python",
   "nbconvert_exporter": "python",
   "pygments_lexer": "ipython3",
   "version": "3.7.4"
  }
 },
 "nbformat": 4,
 "nbformat_minor": 2
}
