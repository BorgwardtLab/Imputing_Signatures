{
 "cells": [
  {
   "cell_type": "code",
   "execution_count": 6,
   "metadata": {},
   "outputs": [
    {
     "name": "stdout",
     "output_type": "stream",
     "text": [
      "The autoreload extension is already loaded. To reload it, use:\n",
      "  %reload_ext autoreload\n"
     ]
    }
   ],
   "source": [
    "import math\n",
    "import torch\n",
    "import gpytorch\n",
    "from matplotlib import pyplot as plt\n",
    "\n",
    "%matplotlib inline\n",
    "%load_ext autoreload\n",
    "%autoreload 2"
   ]
  },
  {
   "cell_type": "code",
   "execution_count": 7,
   "metadata": {},
   "outputs": [],
   "source": [
    "train_x1 = torch.rand(50)\n",
    "train_x2 = torch.rand(50)\n",
    "\n",
    "train_y1 = torch.sin(train_x1 * (2 * math.pi)) + torch.randn(train_x1.size()) * 0.2\n",
    "train_y2 = torch.cos(train_x2 * (2 * math.pi)) + torch.randn(train_x2.size()) * 0.2\n"
   ]
  },
  {
   "cell_type": "code",
   "execution_count": 8,
   "metadata": {},
   "outputs": [],
   "source": [
    "class MultitaskGPModel(gpytorch.models.ExactGP):\n",
    "    def __init__(self, train_x, train_y, likelihood):\n",
    "        super(MultitaskGPModel, self).__init__(train_x, train_y, likelihood)\n",
    "        self.mean_module = gpytorch.means.ConstantMean()\n",
    "        self.covar_module = gpytorch.kernels.RBFKernel()\n",
    "\n",
    "        # We learn an IndexKernel for 2 tasks\n",
    "        # (so we'll actually learn 2x2=4 tasks with correlations)\n",
    "        self.task_covar_module = gpytorch.kernels.IndexKernel(num_tasks=2, rank=1)\n",
    "\n",
    "    def forward(self,x,i):\n",
    "        mean_x = self.mean_module(x)\n",
    "\n",
    "        # Get input-input covariance\n",
    "        covar_x = self.covar_module(x)\n",
    "        # Get task-task covariance\n",
    "        covar_i = self.task_covar_module(i)\n",
    "        # Multiply the two together to get the covariance we want\n",
    "        covar = covar_x.mul(covar_i)\n",
    "\n",
    "        return gpytorch.distributions.MultivariateNormal(mean_x, covar)\n",
    "\n",
    "likelihood = gpytorch.likelihoods.GaussianLikelihood()\n",
    "\n",
    "train_i_task1 = torch.full_like(train_x1, dtype=torch.long, fill_value=0)\n",
    "train_i_task2 = torch.full_like(train_x2, dtype=torch.long, fill_value=1)\n",
    "\n",
    "full_train_x = torch.cat([train_x1, train_x2])\n",
    "full_train_i = torch.cat([train_i_task1, train_i_task2])\n",
    "full_train_y = torch.cat([train_y1, train_y2])\n",
    "\n",
    "# Here we have two iterms that we're passing in as train_inputs\n",
    "model = MultitaskGPModel((full_train_x, full_train_i), full_train_y, likelihood)"
   ]
  },
  {
   "cell_type": "code",
   "execution_count": 20,
   "metadata": {},
   "outputs": [
    {
     "data": {
      "text/plain": [
       "'torch.LongTensor'"
      ]
     },
     "execution_count": 20,
     "metadata": {},
     "output_type": "execute_result"
    }
   ],
   "source": []
  },
  {
   "cell_type": "code",
   "execution_count": 9,
   "metadata": {},
   "outputs": [
    {
     "name": "stdout",
     "output_type": "stream",
     "text": [
      "Iter 1/50 - Loss: 1.044\n",
      "Iter 2/50 - Loss: 1.007\n",
      "Iter 3/50 - Loss: 0.962\n",
      "Iter 4/50 - Loss: 0.911\n",
      "Iter 5/50 - Loss: 0.857\n",
      "Iter 6/50 - Loss: 0.802\n",
      "Iter 7/50 - Loss: 0.751\n",
      "Iter 8/50 - Loss: 0.704\n",
      "Iter 9/50 - Loss: 0.661\n",
      "Iter 10/50 - Loss: 0.621\n",
      "Iter 11/50 - Loss: 0.585\n",
      "Iter 12/50 - Loss: 0.551\n",
      "Iter 13/50 - Loss: 0.520\n",
      "Iter 14/50 - Loss: 0.489\n",
      "Iter 15/50 - Loss: 0.458\n",
      "Iter 16/50 - Loss: 0.428\n",
      "Iter 17/50 - Loss: 0.398\n",
      "Iter 18/50 - Loss: 0.367\n",
      "Iter 19/50 - Loss: 0.337\n",
      "Iter 20/50 - Loss: 0.307\n",
      "Iter 21/50 - Loss: 0.277\n",
      "Iter 22/50 - Loss: 0.249\n",
      "Iter 23/50 - Loss: 0.222\n",
      "Iter 24/50 - Loss: 0.198\n",
      "Iter 25/50 - Loss: 0.177\n",
      "Iter 26/50 - Loss: 0.159\n",
      "Iter 27/50 - Loss: 0.144\n",
      "Iter 28/50 - Loss: 0.134\n",
      "Iter 29/50 - Loss: 0.127\n",
      "Iter 30/50 - Loss: 0.122\n",
      "Iter 31/50 - Loss: 0.119\n",
      "Iter 32/50 - Loss: 0.116\n",
      "Iter 33/50 - Loss: 0.115\n",
      "Iter 34/50 - Loss: 0.116\n",
      "Iter 35/50 - Loss: 0.117\n",
      "Iter 36/50 - Loss: 0.119\n",
      "Iter 37/50 - Loss: 0.122\n",
      "Iter 38/50 - Loss: 0.125\n",
      "Iter 39/50 - Loss: 0.127\n",
      "Iter 40/50 - Loss: 0.129\n",
      "Iter 41/50 - Loss: 0.129\n",
      "Iter 42/50 - Loss: 0.128\n",
      "Iter 43/50 - Loss: 0.127\n",
      "Iter 44/50 - Loss: 0.124\n",
      "Iter 45/50 - Loss: 0.122\n",
      "Iter 46/50 - Loss: 0.119\n",
      "Iter 47/50 - Loss: 0.116\n",
      "Iter 48/50 - Loss: 0.114\n",
      "Iter 49/50 - Loss: 0.112\n",
      "Iter 50/50 - Loss: 0.110\n"
     ]
    }
   ],
   "source": [
    "# Find optimal model hyperparameters\n",
    "model.train()\n",
    "likelihood.train()\n",
    "\n",
    "# Use the adam optimizer\n",
    "optimizer = torch.optim.Adam([\n",
    "    {'params': model.parameters()},  # Includes GaussianLikelihood parameters\n",
    "], lr=0.1)\n",
    "\n",
    "# \"Loss\" for GPs - the marginal log likelihood\n",
    "mll = gpytorch.mlls.ExactMarginalLogLikelihood(likelihood, model)\n",
    "\n",
    "for i in range(50):\n",
    "    optimizer.zero_grad()\n",
    "    output = model(full_train_x, full_train_i)\n",
    "    loss = -mll(output, full_train_y)\n",
    "    loss.backward()\n",
    "    print('Iter %d/50 - Loss: %.3f' % (i + 1, loss.item()))\n",
    "    optimizer.step()"
   ]
  },
  {
   "cell_type": "code",
   "execution_count": 11,
   "metadata": {},
   "outputs": [
    {
     "data": {
      "image/png": "[encoded data removed]",
      "text/plain": [
       "<Figure size 576x216 with 2 Axes>"
      ]
     },
     "metadata": {},
     "output_type": "display_data"
    }
   ],
   "source": [
    "# Set into eval mode\n",
    "model.eval()\n",
    "likelihood.eval()\n",
    "\n",
    "# Initialize plots\n",
    "f, (y1_ax, y2_ax) = plt.subplots(1, 2, figsize=(8, 3))\n",
    "\n",
    "# Test points every 0.02 in [0,1]\n",
    "test_x = torch.linspace(0, 1, 51)\n",
    "tast_i_task1 = torch.full_like(test_x, dtype=torch.long, fill_value=0)\n",
    "test_i_task2 = torch.full_like(test_x, dtype=torch.long, fill_value=1)\n",
    "\n",
    "# Make predictions - one task at a time\n",
    "# We control the task we cae about using the indices\n",
    "\n",
    "# The gpytorch.settings.fast_pred_var flag activates LOVE (for fast variances)\n",
    "# See https://arxiv.org/abs/1803.06058\n",
    "with torch.no_grad(), gpytorch.settings.fast_pred_var():\n",
    "    observed_pred_y1 = likelihood(model(test_x, tast_i_task1))\n",
    "    observed_pred_y2 = likelihood(model(test_x, test_i_task2))\n",
    "\n",
    "# Define plotting function\n",
    "def ax_plot(ax, train_y, train_x, rand_var, title):\n",
    "    # Get lower and upper confidence bounds\n",
    "    lower, upper = rand_var.confidence_region()\n",
    "    # Plot training data as black stars\n",
    "    ax.plot(train_x.detach().numpy(), train_y.detach().numpy(), 'k*')\n",
    "    # Predictive mean as blue line\n",
    "    ax.plot(test_x.detach().numpy(), rand_var.mean.detach().numpy(), 'b')\n",
    "    # Shade in confidence\n",
    "    ax.fill_between(test_x.detach().numpy(), lower.detach().numpy(), upper.detach().numpy(), alpha=0.5)\n",
    "    ax.set_ylim([-3, 3])\n",
    "    ax.legend(['Observed Data', 'Mean', 'Confidence'])\n",
    "    ax.set_title(title)\n",
    "\n",
    "# Plot both tasks\n",
    "ax_plot(y1_ax, train_y1, train_x1, observed_pred_y1, 'Observed Values (Likelihood)')\n",
    "ax_plot(y2_ax, train_y2, train_x2, observed_pred_y2, 'Observed Values (Likelihood)')"
   ]
  },
  {
   "cell_type": "code",
   "execution_count": null,
   "metadata": {},
   "outputs": [],
   "source": []
  }
 ],
 "metadata": {
  "kernelspec": {
   "display_name": "GPytorch-env",
   "language": "python",
   "name": "gpytorch-env"
  },
  "language_info": {
   "codemirror_mode": {
    "name": "ipython",
    "version": 3
   },
   "file_extension": ".py",
   "mimetype": "text/x-python",
   "name": "python",
   "nbconvert_exporter": "python",
   "pygments_lexer": "ipython3",
   "version": "3.7.4"
  }
 },
 "nbformat": 4,
 "nbformat_minor": 2
}
