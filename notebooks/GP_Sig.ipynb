{
 "cells": [
  {
   "cell_type": "code",
   "execution_count": 7,
   "metadata": {},
   "outputs": [],
   "source": [
    "import pandas as pd\n",
    "import numpy as np\n",
    "import os\n",
    "import sys\n",
    "sys.path.append('../')"
   ]
  },
  {
   "cell_type": "code",
   "execution_count": 8,
   "metadata": {},
   "outputs": [],
   "source": [
    "from src.dataset import get_ucr_dataset"
   ]
  },
  {
   "cell_type": "code",
   "execution_count": 9,
   "metadata": {},
   "outputs": [],
   "source": [
    "def load_data(dataset_dir, train=True):\n",
    "    \"\"\" Function to load train or test data (from preprocessed npz format)\n",
    "    \"\"\"\n",
    "    filename = 'X_train.npz' if train else 'X_test.npz'\n",
    "    data_path = os.path.join(dataset_dir, filename)\n",
    "    data = np.load(data_path)\n",
    "    return data['X']\n",
    "    "
   ]
  },
  {
   "cell_type": "code",
   "execution_count": 10,
   "metadata": {},
   "outputs": [],
   "source": [
    "def load_train_and_test(dataset_dir):\n",
    "    X_train = load_data(dataset_dir, train=True)\n",
    "    X_test = load_data(dataset_dir, train=False)\n",
    "    return X_train, X_test"
   ]
  },
  {
   "cell_type": "code",
   "execution_count": 11,
   "metadata": {},
   "outputs": [],
   "source": [
    "data_dir = \"../data/processed\"\n",
    "dataset = \"CricketX\"\n",
    "used_format = 'ts'\n",
    "input_path = \"../data/UEA_UCR\" #original dataset for labels"
   ]
  },
  {
   "cell_type": "code",
   "execution_count": 12,
   "metadata": {},
   "outputs": [],
   "source": [
    "interpolations = ['GP', 'linear']\n",
    "thresholds = [0.05, 0.1, 0.3, 0.5]"
   ]
  },
  {
   "cell_type": "code",
   "execution_count": 43,
   "metadata": {},
   "outputs": [],
   "source": [
    "#Loop over interpolations and thresholds:\n",
    "i = interpolations[1]\n",
    "j = thresholds[0]"
   ]
  },
  {
   "cell_type": "code",
   "execution_count": 44,
   "metadata": {},
   "outputs": [],
   "source": [
    "dataset_dir = os.path.join(data_dir, dataset, i, f'dropped_{j}')"
   ]
  },
  {
   "cell_type": "code",
   "execution_count": 45,
   "metadata": {},
   "outputs": [
    {
     "data": {
      "text/plain": [
       "'../data/processed/CricketX/linear/dropped_0.05'"
      ]
     },
     "execution_count": 45,
     "metadata": {},
     "output_type": "execute_result"
    }
   ],
   "source": [
    "dataset_dir"
   ]
  },
  {
   "cell_type": "code",
   "execution_count": 46,
   "metadata": {},
   "outputs": [],
   "source": [
    "X_train, X_test = load_train_and_test(dataset_dir)"
   ]
  },
  {
   "cell_type": "code",
   "execution_count": 47,
   "metadata": {},
   "outputs": [],
   "source": [
    "Z_train, y_train, Z_test, y_test = get_ucr_dataset(input_path, dataset, used_format)"
   ]
  },
  {
   "cell_type": "markdown",
   "metadata": {},
   "source": [
    "# Split dataset"
   ]
  },
  {
   "cell_type": "code",
   "execution_count": 48,
   "metadata": {},
   "outputs": [
    {
     "data": {
      "text/plain": [
       "1"
      ]
     },
     "execution_count": 48,
     "metadata": {},
     "output_type": "execute_result"
    }
   ],
   "source": [
    "from sklearn.model_selection import StratifiedShuffleSplit\n",
    "sss = StratifiedShuffleSplit(n_splits=1, test_size=0.33, random_state=0)\n",
    "sss.get_n_splits(X_train, y_train)"
   ]
  },
  {
   "cell_type": "code",
   "execution_count": 49,
   "metadata": {},
   "outputs": [],
   "source": [
    "for train_index, test_index in sss.split(Z_train, y_train):\n",
    "    #print(“TRAIN:“, train_index, “TEST:“, test_index)\n",
    "    X_tr, X_val = X_train[train_index], X_train[test_index]\n",
    "    y_tr, y_val = y_train[train_index], y_train[test_index]"
   ]
  },
  {
   "cell_type": "markdown",
   "metadata": {},
   "source": [
    "# Signature Transform"
   ]
  },
  {
   "cell_type": "code",
   "execution_count": 55,
   "metadata": {},
   "outputs": [],
   "source": [
    "import iisignature"
   ]
  },
  {
   "cell_type": "code",
   "execution_count": 80,
   "metadata": {},
   "outputs": [],
   "source": [
    "def ts2path(X):\n",
    "    \"\"\" Convert single time series to path (by adding time axis))\n",
    "        X: np array (n time steps, d dimensions)\n",
    "    \"\"\"\n",
    "    if len(X.shape) == 1:\n",
    "        X = X.reshape(-1,1)\n",
    "    if X.shape[1] > 1:\n",
    "        raise ValueError(\"Multivariate Time series not implemented yet!\")\n",
    "    n = X.shape[0]\n",
    "    steps = np.arange(n).reshape(-1,1)\n",
    "    path = np.concatenate((steps, X), axis=1)\n",
    "    return path"
   ]
  },
  {
   "cell_type": "code",
   "execution_count": 115,
   "metadata": {},
   "outputs": [],
   "source": [
    "def compute_signatures(data, trunc=4):\n",
    "    \"\"\" Compute signatures of dataset of time series \n",
    "        data: (n samples, d time steps)\n",
    "    \"\"\"\n",
    "    n = data.shape[0]\n",
    "    #first = ts2path(data[0,:])\n",
    "    #compute first signature for output shape\n",
    "    #s1 = iisignature.sig(first, trunc)\n",
    "    #output_shape = [n, s1.shape[0]]\n",
    "    \n",
    "    signatures = []\n",
    "    for sample in data:\n",
    "        #convert sample time series to path\n",
    "        path = ts2path(sample)\n",
    "        #compute signature of path of ts \n",
    "        sig = iisignature.sig(path, trunc)\n",
    "        #convert to 2d array for easy concatenation\n",
    "        \n",
    "        signatures.append(sig.reshape(-1,1))\n",
    "        #append to results\n",
    "    return signatures\n",
    "\n",
    "    "
   ]
  },
  {
   "cell_type": "code",
   "execution_count": 113,
   "metadata": {},
   "outputs": [],
   "source": [
    "sigs = compute_signatures(X_train)"
   ]
  },
  {
   "cell_type": "code",
   "execution_count": 114,
   "metadata": {},
   "outputs": [
    {
     "data": {
      "text/plain": [
       "(30, 390)"
      ]
     },
     "execution_count": 114,
     "metadata": {},
     "output_type": "execute_result"
    }
   ],
   "source": [
    "np.concatenate(sigs, axis=1).shape"
   ]
  },
  {
   "cell_type": "markdown",
   "metadata": {},
   "source": [
    "# Classifier"
   ]
  },
  {
   "cell_type": "code",
   "execution_count": 89,
   "metadata": {},
   "outputs": [
    {
     "data": {
      "text/plain": [
       "array([-1.04551366e+00, -1.04551366e+00, -1.04551366e+00, -1.04551366e+00,\n",
       "       -1.04551366e+00, -1.04551366e+00, -9.51581179e-01, -8.57648695e-01,\n",
       "       -7.63716210e-01, -6.70302589e-01, -5.93665575e-01, -5.17028561e-01,\n",
       "       -4.40391547e-01, -3.63754532e-01, -2.87117518e-01, -2.10480504e-01,\n",
       "       -1.33843490e-01, -5.72064755e-02,  1.94305387e-02,  9.60675529e-02,\n",
       "        1.72704567e-01,  2.49341581e-01,  3.25978596e-01,  4.02615610e-01,\n",
       "        4.79252624e-01,  5.55889638e-01,  6.32526653e-01,  7.09163667e-01,\n",
       "        7.85800681e-01,  8.62437695e-01,  9.39074709e-01,  1.01571172e+00,\n",
       "        1.09234874e+00,  1.16898575e+00,  1.24562277e+00,  1.32225978e+00,\n",
       "        1.39889679e+00,  1.47553381e+00,  1.55217082e+00,  1.62880784e+00,\n",
       "        1.70544485e+00,  1.78208187e+00,  1.85871888e+00,  1.93535589e+00,\n",
       "        2.01199291e+00,  2.05905904e+00,  1.93855682e+00,  1.81805459e+00,\n",
       "        1.69755237e+00,  1.57705015e+00,  1.45654793e+00,  1.33604571e+00,\n",
       "        1.21554348e+00,  1.09504126e+00,  9.74539040e-01,  8.54036818e-01,\n",
       "        7.33534596e-01,  6.32162433e-01,  6.12344729e-01,  5.92527024e-01,\n",
       "        5.72709320e-01,  5.52891616e-01,  5.33073912e-01,  5.13256208e-01,\n",
       "        4.93438504e-01,  4.73620800e-01,  4.53803096e-01,  4.33985392e-01,\n",
       "        4.14167688e-01,  3.94349984e-01,  3.74532280e-01,  3.54714576e-01,\n",
       "        3.34896872e-01,  3.15079168e-01,  2.95261463e-01,  2.75443759e-01,\n",
       "        2.55626055e-01,  2.35808351e-01,  2.15990647e-01,  1.96172943e-01,\n",
       "        1.76355239e-01,  1.56537535e-01,  1.36719831e-01,  1.16902127e-01,\n",
       "        9.70844228e-02,  7.72667188e-02,  5.74490147e-02,  3.76313106e-02,\n",
       "        1.78136066e-02, -2.00409749e-03, -2.18218016e-02, -4.16395056e-02,\n",
       "       -6.14572097e-02, -8.12749138e-02, -1.01092618e-01, -1.20910322e-01,\n",
       "       -1.40728026e-01, -1.60545730e-01, -1.80363434e-01, -2.00181138e-01,\n",
       "       -2.19998842e-01, -2.39816546e-01, -2.59634250e-01, -2.79451954e-01,\n",
       "       -2.99269658e-01, -3.19087363e-01, -3.38905067e-01, -3.58722771e-01,\n",
       "       -3.78540475e-01, -3.81592151e-01, -3.55264987e-01, -3.28937824e-01,\n",
       "       -3.02610660e-01, -2.76283497e-01, -2.49956333e-01, -2.23629170e-01,\n",
       "       -1.97302007e-01, -1.70974843e-01, -1.44647680e-01, -1.18320516e-01,\n",
       "       -9.19933528e-02, -6.56661894e-02, -3.93390259e-02, -1.30118625e-02,\n",
       "        1.33153010e-02,  3.96424644e-02,  6.59696279e-02,  9.22967913e-02,\n",
       "        1.18623955e-01,  1.44951118e-01,  1.71278282e-01,  1.97605445e-01,\n",
       "        2.23932609e-01,  2.50259772e-01,  2.76586935e-01,  3.02914099e-01,\n",
       "        3.29241262e-01,  3.55568426e-01,  3.81895589e-01,  4.08222753e-01,\n",
       "        4.34549916e-01,  4.60877079e-01,  4.87204243e-01,  5.13531406e-01,\n",
       "        5.39858570e-01,  5.66185733e-01,  5.92512897e-01,  6.18840060e-01,\n",
       "        6.45167224e-01,  6.71494387e-01,  6.97821550e-01,  7.24148714e-01,\n",
       "        7.04200270e-01,  6.39193997e-01,  5.74187724e-01,  5.09181450e-01,\n",
       "        4.44175177e-01,  3.79168904e-01,  3.14162631e-01,  2.49156358e-01,\n",
       "        1.84150085e-01,  1.19143812e-01,  5.41375393e-02, -1.08687337e-02,\n",
       "       -7.58750067e-02, -1.40881280e-01, -2.05887553e-01, -2.70893826e-01,\n",
       "       -3.35900099e-01, -4.00906372e-01, -4.65912645e-01, -5.30918918e-01,\n",
       "       -5.95925191e-01, -6.60931464e-01, -7.25937737e-01, -7.70543348e-01,\n",
       "       -8.00577058e-01, -8.30610767e-01, -8.60644477e-01, -8.90678187e-01,\n",
       "       -9.20711897e-01, -9.50745606e-01, -9.24720596e-01, -8.62349821e-01,\n",
       "       -7.99979047e-01, -7.37608272e-01, -6.75237498e-01, -6.12866723e-01,\n",
       "       -5.50495949e-01, -4.88125175e-01, -4.25754400e-01, -3.63383626e-01,\n",
       "       -3.01012851e-01, -2.38642077e-01, -1.76271302e-01, -1.13900528e-01,\n",
       "       -1.11708332e-01, -1.41447592e-01, -1.71186853e-01, -2.00926113e-01,\n",
       "       -2.30665374e-01, -2.60404634e-01, -2.90143895e-01, -2.97693310e-01,\n",
       "       -2.94639684e-01, -2.91586058e-01, -2.88532433e-01, -2.85478807e-01,\n",
       "       -2.82425181e-01, -2.79371556e-01, -2.76317930e-01, -2.73264304e-01,\n",
       "       -2.70210679e-01, -2.67157053e-01, -2.64103427e-01, -2.61049802e-01,\n",
       "       -2.57996176e-01, -2.54942550e-01, -2.32819375e-01, -2.03523250e-01,\n",
       "       -1.74227124e-01, -1.44930999e-01, -1.15634874e-01, -8.63387488e-02,\n",
       "       -5.70426236e-02, -2.77464984e-02, -3.82413904e-02, -6.17651922e-02,\n",
       "       -8.52889940e-02, -1.08812796e-01, -1.32336598e-01, -1.55860399e-01,\n",
       "       -1.79384201e-01, -2.72155911e-01, -3.84840117e-01, -4.97524322e-01,\n",
       "       -6.10208528e-01, -6.24183010e-01, -6.11918200e-01, -5.99653389e-01,\n",
       "       -5.87388578e-01, -5.75123767e-01, -5.62858956e-01, -5.50594145e-01,\n",
       "       -5.38329335e-01, -5.26064524e-01, -5.13799713e-01, -5.01534902e-01,\n",
       "       -4.89270091e-01, -4.77005280e-01, -4.64740469e-01, -4.52475659e-01,\n",
       "       -4.40210848e-01, -4.27946037e-01, -4.15681226e-01, -4.03416415e-01,\n",
       "       -3.91151604e-01, -3.78886794e-01, -3.66621983e-01, -3.54357172e-01,\n",
       "       -3.42092361e-01, -3.29827550e-01, -3.17562739e-01, -3.05297929e-01,\n",
       "       -2.93033118e-01, -2.80768307e-01, -2.80768307e-01, -2.80768307e-01,\n",
       "       -2.80768307e-01, -2.80768307e-01, -2.80768307e-01, -2.80768307e-01,\n",
       "       -2.80768307e-01, -2.80768307e-01, -2.80768307e-01, -2.80768307e-01,\n",
       "       -2.80768307e-01, -2.80768307e-01, -2.80768307e-01, -2.80768307e-01,\n",
       "       -2.80768307e-01, -2.80768307e-01, -2.80768307e-01, -2.80768307e-01,\n",
       "       -2.80768307e-01, -2.80768307e-01, -2.80768307e-01, -2.80768307e-01,\n",
       "       -2.80768307e-01, -2.80768307e-01, -2.80768307e-01, -2.80768307e-01,\n",
       "       -2.80768307e-01, -2.80768307e-01, -2.80768307e-01, -2.80768307e-01,\n",
       "       -2.80768307e-01, -2.80768307e-01, -2.80768307e-01, -2.80768307e-01])"
      ]
     },
     "execution_count": 89,
     "metadata": {},
     "output_type": "execute_result"
    }
   ],
   "source": []
  },
  {
   "cell_type": "code",
   "execution_count": 82,
   "metadata": {},
   "outputs": [],
   "source": []
  },
  {
   "cell_type": "code",
   "execution_count": 83,
   "metadata": {},
   "outputs": [
    {
     "data": {
      "text/plain": [
       "array([[ 0, 20],\n",
       "       [ 1, 21],\n",
       "       [ 2, 22],\n",
       "       [ 3, 23],\n",
       "       [ 4, 24],\n",
       "       [ 5, 25],\n",
       "       [ 6, 26],\n",
       "       [ 7, 27],\n",
       "       [ 8, 28],\n",
       "       [ 9, 29]])"
      ]
     },
     "execution_count": 83,
     "metadata": {},
     "output_type": "execute_result"
    }
   ],
   "source": []
  },
  {
   "cell_type": "code",
   "execution_count": 31,
   "metadata": {},
   "outputs": [],
   "source": [
    "import lightgbm as lgb"
   ]
  },
  {
   "cell_type": "code",
   "execution_count": 50,
   "metadata": {},
   "outputs": [],
   "source": [
    "est = lgb.LGBMClassifier(boosting_type='gbdt', num_leaves=31, max_depth=-1, learning_rate=0.1,\n",
    "                              n_estimators=300, subsample_for_bin=200000, objective= 'multiclass', class_weight='balanced',\n",
    "                              min_split_gain=0.0, min_child_weight=0.001, min_child_samples=20, subsample=1.0,\n",
    "                              subsample_freq=0, colsample_bytree=1.0, reg_alpha=0.0, reg_lambda=0.0,\n",
    "                                random_state=42, n_jobs=4)"
   ]
  },
  {
   "cell_type": "code",
   "execution_count": 51,
   "metadata": {},
   "outputs": [
    {
     "data": {
      "text/plain": [
       "LGBMClassifier(boosting_type='gbdt', class_weight='balanced',\n",
       "               colsample_bytree=1.0, importance_type='split', learning_rate=0.1,\n",
       "               max_depth=-1, min_child_samples=20, min_child_weight=0.001,\n",
       "               min_split_gain=0.0, n_estimators=300, n_jobs=4, num_leaves=31,\n",
       "               objective='multiclass', random_state=42, reg_alpha=0.0,\n",
       "               reg_lambda=0.0, silent=True, subsample=1.0,\n",
       "               subsample_for_bin=200000, subsample_freq=0)"
      ]
     },
     "execution_count": 51,
     "metadata": {},
     "output_type": "execute_result"
    }
   ],
   "source": [
    "est.fit(X_tr,y_tr)"
   ]
  },
  {
   "cell_type": "code",
   "execution_count": 25,
   "metadata": {},
   "outputs": [],
   "source": [
    "from sklearn.metrics import accuracy_score"
   ]
  },
  {
   "cell_type": "code",
   "execution_count": 52,
   "metadata": {},
   "outputs": [],
   "source": [
    "y_pred = est.predict(X_val)"
   ]
  },
  {
   "cell_type": "code",
   "execution_count": 53,
   "metadata": {},
   "outputs": [
    {
     "data": {
      "text/plain": [
       "0.32558139534883723"
      ]
     },
     "execution_count": 53,
     "metadata": {},
     "output_type": "execute_result"
    }
   ],
   "source": [
    "acc = accuracy_score(y_val, y_pred)\n",
    "acc\n",
    "# lgm all obs: 0.56 acc\n",
    "# lgm 0.05 obs: 0.17 acc\n"
   ]
  },
  {
   "cell_type": "markdown",
   "metadata": {},
   "source": [
    "# Gridsearch"
   ]
  },
  {
   "cell_type": "code",
   "execution_count": 51,
   "metadata": {},
   "outputs": [],
   "source": [
    "parameters = {'n_estimators': [100],\n",
    "              'learning_rate':[0.1,0.05],\n",
    "              'boosting_type': ['gbdt', 'dart'],\n",
    "              'num_leaves':[15,30],\n",
    "              'max_depth': [10,-1],\n",
    "             }"
   ]
  },
  {
   "cell_type": "code",
   "execution_count": null,
   "metadata": {},
   "outputs": [],
   "source": []
  }
 ],
 "metadata": {
  "kernelspec": {
   "display_name": "GP_sig",
   "language": "python",
   "name": "gp_sig"
  },
  "language_info": {
   "codemirror_mode": {
    "name": "ipython",
    "version": 3
   },
   "file_extension": ".py",
   "mimetype": "text/x-python",
   "name": "python",
   "nbconvert_exporter": "python",
   "pygments_lexer": "ipython3",
   "version": "3.7.4"
  }
 },
 "nbformat": 4,
 "nbformat_minor": 2
}
