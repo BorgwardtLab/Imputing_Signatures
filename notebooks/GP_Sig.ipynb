{
 "cells": [
  {
   "cell_type": "code",
   "execution_count": 118,
   "metadata": {},
   "outputs": [],
   "source": [
    "import pandas as pd\n",
    "import numpy as np\n",
    "import os\n",
    "import sys\n",
    "sys.path.append('../')"
   ]
  },
  {
   "cell_type": "code",
   "execution_count": 119,
   "metadata": {},
   "outputs": [],
   "source": [
    "from src.dataset import get_ucr_dataset"
   ]
  },
  {
   "cell_type": "code",
   "execution_count": 120,
   "metadata": {},
   "outputs": [],
   "source": [
    "def load_data(dataset_dir, train=True):\n",
    "    \"\"\" Function to load train or test data (from preprocessed npz format)\n",
    "    \"\"\"\n",
    "    filename = 'X_train.npz' if train else 'X_test.npz'\n",
    "    data_path = os.path.join(dataset_dir, filename)\n",
    "    data = np.load(data_path)\n",
    "    return data['X']\n",
    "    "
   ]
  },
  {
   "cell_type": "code",
   "execution_count": 121,
   "metadata": {},
   "outputs": [],
   "source": [
    "def load_train_and_test(dataset_dir):\n",
    "    X_train = load_data(dataset_dir, train=True)\n",
    "    X_test = load_data(dataset_dir, train=False)\n",
    "    return X_train, X_test"
   ]
  },
  {
   "cell_type": "code",
   "execution_count": 156,
   "metadata": {},
   "outputs": [],
   "source": [
    "data_dir = \"../data/processed\"\n",
    "dataset = \"CricketX\" #\"CricketX\"\"ECGFiveDays\" \n",
    "used_format = 'ts'\n",
    "input_path = \"../data/UEA_UCR\" #original dataset for labels"
   ]
  },
  {
   "cell_type": "code",
   "execution_count": 123,
   "metadata": {},
   "outputs": [],
   "source": [
    "interpolations = ['GP', 'linear']\n",
    "thresholds = [0.05, 0.1, 0.3, 0.5]"
   ]
  },
  {
   "cell_type": "code",
   "execution_count": 157,
   "metadata": {},
   "outputs": [],
   "source": [
    "#Loop over interpolations and thresholds:\n",
    "i = interpolations[0]\n",
    "j = thresholds[0]"
   ]
  },
  {
   "cell_type": "code",
   "execution_count": 158,
   "metadata": {},
   "outputs": [],
   "source": [
    "dataset_dir = os.path.join(data_dir, dataset, i, f'dropped_{j}')"
   ]
  },
  {
   "cell_type": "code",
   "execution_count": 159,
   "metadata": {},
   "outputs": [
    {
     "data": {
      "text/plain": [
       "'../data/processed/CricketX/GP/dropped_0.05'"
      ]
     },
     "execution_count": 159,
     "metadata": {},
     "output_type": "execute_result"
    }
   ],
   "source": [
    "dataset_dir"
   ]
  },
  {
   "cell_type": "code",
   "execution_count": 160,
   "metadata": {},
   "outputs": [],
   "source": [
    "X_train, X_test = load_train_and_test(dataset_dir)"
   ]
  },
  {
   "cell_type": "code",
   "execution_count": 198,
   "metadata": {},
   "outputs": [],
   "source": [
    "Z_train, y_train, Z_test, y_test = get_ucr_dataset(input_path, dataset, used_format)"
   ]
  },
  {
   "cell_type": "markdown",
   "metadata": {},
   "source": [
    "# Split dataset"
   ]
  },
  {
   "cell_type": "code",
   "execution_count": 199,
   "metadata": {},
   "outputs": [
    {
     "data": {
      "text/plain": [
       "1"
      ]
     },
     "execution_count": 199,
     "metadata": {},
     "output_type": "execute_result"
    }
   ],
   "source": [
    "np.random.seed(42)\n",
    "from sklearn.model_selection import StratifiedShuffleSplit\n",
    "sss = StratifiedShuffleSplit(n_splits=1, test_size=0.33, random_state=0)\n",
    "sss.get_n_splits(Z_train, y_train)"
   ]
  },
  {
   "cell_type": "code",
   "execution_count": 200,
   "metadata": {},
   "outputs": [],
   "source": [
    "for train_index, test_index in sss.split(Z_train, y_train):\n",
    "    #print(“TRAIN:“, train_index, “TEST:“, test_index)\n",
    "    X_tr, X_val = Z_train[train_index], Z_train[test_index]\n",
    "    y_tr, y_val = y_train[train_index], y_train[test_index]"
   ]
  },
  {
   "cell_type": "markdown",
   "metadata": {},
   "source": [
    "# Signature Transform"
   ]
  },
  {
   "cell_type": "code",
   "execution_count": 131,
   "metadata": {},
   "outputs": [],
   "source": [
    "import iisignature"
   ]
  },
  {
   "cell_type": "code",
   "execution_count": 132,
   "metadata": {},
   "outputs": [],
   "source": [
    "def ts2path(X):\n",
    "    \"\"\" Convert single time series to path (by adding time axis))\n",
    "        X: np array (n time steps, d dimensions)\n",
    "    \"\"\"\n",
    "    if len(X.shape) == 1:\n",
    "        X = X.reshape(-1,1)\n",
    "    if X.shape[1] > 1:\n",
    "        raise ValueError(\"Multivariate Time series not implemented yet!\")\n",
    "    n = X.shape[0]\n",
    "    steps = np.arange(n).reshape(-1,1)\n",
    "    path = np.concatenate((steps, X), axis=1)\n",
    "    return path"
   ]
  },
  {
   "cell_type": "code",
   "execution_count": 133,
   "metadata": {},
   "outputs": [],
   "source": [
    "def compute_signatures(data, trunc=6):\n",
    "    \"\"\" Compute signatures of dataset of time series \n",
    "        Input:\n",
    "        -data (n samples, d time steps)\n",
    "        Output:\n",
    "        -signatures (n_samples, n_signature_components)\n",
    "    \"\"\"\n",
    "    n = data.shape[0]\n",
    "    #first = ts2path(data[0,:])\n",
    "    #compute first signature for output shape\n",
    "    #s1 = iisignature.sig(first, trunc)\n",
    "    #output_shape = [n, s1.shape[0]]\n",
    "    \n",
    "    signatures = []\n",
    "    for sample in data:\n",
    "        #convert sample time series to path\n",
    "        path = ts2path(sample)\n",
    "        #compute signature of path of ts \n",
    "        sig = iisignature.sig(path, trunc)\n",
    "        #convert to 2d array for easy concatenation\n",
    "        \n",
    "        signatures.append(sig.reshape(-1,1))\n",
    "        #append to results\n",
    "    return np.concatenate(signatures, axis=1).T\n",
    "\n",
    "    "
   ]
  },
  {
   "cell_type": "code",
   "execution_count": 134,
   "metadata": {},
   "outputs": [],
   "source": [
    "def to_signatures(X_train, X_test, trunc=6):\n",
    "    S_train = compute_signatures(X_train, trunc=trunc)\n",
    "    S_test = compute_signatures(X_test, trunc=trunc)\n",
    "    return S_train, S_test\n"
   ]
  },
  {
   "cell_type": "code",
   "execution_count": 233,
   "metadata": {},
   "outputs": [],
   "source": [
    "S_tr, S_val = to_signatures(X_tr, X_val, 8) "
   ]
  },
  {
   "cell_type": "code",
   "execution_count": 189,
   "metadata": {},
   "outputs": [],
   "source": [
    "S_train, S_test = to_signatures(Z_train, Z_test, 8) "
   ]
  },
  {
   "cell_type": "markdown",
   "metadata": {},
   "source": [
    "# Classifier"
   ]
  },
  {
   "cell_type": "code",
   "execution_count": 164,
   "metadata": {},
   "outputs": [],
   "source": [
    "from sklearn.linear_model import LogisticRegression as LR"
   ]
  },
  {
   "cell_type": "code",
   "execution_count": 165,
   "metadata": {},
   "outputs": [],
   "source": [
    "est = LR(class_weight='balanced')"
   ]
  },
  {
   "cell_type": "code",
   "execution_count": 136,
   "metadata": {},
   "outputs": [],
   "source": [
    "import lightgbm as lgb"
   ]
  },
  {
   "cell_type": "code",
   "execution_count": 192,
   "metadata": {},
   "outputs": [],
   "source": [
    "est = lgb.LGBMClassifier(boosting_type='gbdt', num_leaves=31, max_depth=-1, learning_rate=0.1,\n",
    "                              n_estimators=400, subsample_for_bin=200000, objective= 'multiclass', class_weight='balanced',\n",
    "                              min_split_gain=0.0, min_child_weight=0.001, min_child_samples=20, subsample=1.0,\n",
    "                              subsample_freq=0, colsample_bytree=1.0, reg_alpha=0.0, reg_lambda=0.0,\n",
    "                                random_state=42, n_jobs=4) #objective= multiclass "
   ]
  },
  {
   "cell_type": "code",
   "execution_count": 171,
   "metadata": {},
   "outputs": [
    {
     "data": {
      "text/plain": [
       "LGBMClassifier(boosting_type='gbdt', class_weight='balanced',\n",
       "               colsample_bytree=1.0, importance_type='split', learning_rate=0.1,\n",
       "               max_depth=-1, min_child_samples=20, min_child_weight=0.001,\n",
       "               min_split_gain=0.0, n_estimators=400, n_jobs=4, num_leaves=31,\n",
       "               objective='binary', random_state=42, reg_alpha=0.0,\n",
       "               reg_lambda=0.0, silent=True, subsample=1.0,\n",
       "               subsample_for_bin=200000, subsample_freq=0)"
      ]
     },
     "execution_count": 171,
     "metadata": {},
     "output_type": "execute_result"
    }
   ],
   "source": [
    "est.fit(S_tr,y_tr)"
   ]
  },
  {
   "cell_type": "code",
   "execution_count": 167,
   "metadata": {},
   "outputs": [],
   "source": [
    "from sklearn.metrics import accuracy_score\n",
    "from sklearn.metrics import balanced_accuracy_score"
   ]
  },
  {
   "cell_type": "code",
   "execution_count": 172,
   "metadata": {},
   "outputs": [],
   "source": [
    "y_pred = est.predict(S_val)"
   ]
  },
  {
   "cell_type": "code",
   "execution_count": 173,
   "metadata": {
    "scrolled": true
   },
   "outputs": [
    {
     "name": "stdout",
     "output_type": "stream",
     "text": [
      "Accuracy: 0.5348837209302325, Balanced Accuracy: 0.5422801735301734\n"
     ]
    }
   ],
   "source": [
    "acc = accuracy_score(y_val, y_pred)\n",
    "bal = balanced_accuracy_score(y_val, y_pred)\n",
    "\n",
    "print(f'Accuracy: {acc}, Balanced Accuracy: {bal}')\n",
    "\n",
    "# lgm all obs: 0.56 acc\n",
    "# lgm 0.05 obs: 0.17 acc\n",
    "\n",
    "#CricketX\n",
    "#sig-lgm linear, thres 0.05: 0.209 acc\n",
    "#sig-lgm GP, thres 0.05: 0.178 acc\n",
    "\n",
    "#ECGFiveDays\n",
    "#sig-lgbm linear, thres 0.05:  Accuracy: 0.375, Balanced Accuracy: 0.5\n",
    "#sig-lgbm GP, thres 0.05: Accuracy: 0.375, Balanced Accuracy: 0.5\n"
   ]
  },
  {
   "cell_type": "code",
   "execution_count": 214,
   "metadata": {},
   "outputs": [],
   "source": [
    "def evaluation(y_true, y_pred):\n",
    "    acc = accuracy_score(y_true, y_pred)\n",
    "    bal = balanced_accuracy_score(y_true, y_pred)\n",
    "    print(f'Accuracy: {acc}, Balanced Accuracy: {bal}')"
   ]
  },
  {
   "cell_type": "markdown",
   "metadata": {},
   "source": [
    "# DTW-kNN Baseline"
   ]
  },
  {
   "cell_type": "code",
   "execution_count": 197,
   "metadata": {},
   "outputs": [],
   "source": [
    "from tslearn.metrics import dtw, cdist_dtw"
   ]
  },
  {
   "cell_type": "code",
   "execution_count": 209,
   "metadata": {},
   "outputs": [],
   "source": [
    "from sklearn.neighbors import KNeighborsClassifier"
   ]
  },
  {
   "cell_type": "code",
   "execution_count": null,
   "metadata": {},
   "outputs": [],
   "source": [
    "D = cdist_dtw(S_tr)"
   ]
  },
  {
   "cell_type": "code",
   "execution_count": null,
   "metadata": {},
   "outputs": [],
   "source": [
    "D_val = cdist_dtw(S_val, S_tr)"
   ]
  },
  {
   "cell_type": "code",
   "execution_count": 213,
   "metadata": {},
   "outputs": [
    {
     "data": {
      "text/plain": [
       "(129, 261)"
      ]
     },
     "execution_count": 213,
     "metadata": {},
     "output_type": "execute_result"
    }
   ],
   "source": [
    "D_val.shape"
   ]
  },
  {
   "cell_type": "code",
   "execution_count": null,
   "metadata": {},
   "outputs": [],
   "source": [
    "knn = KNeighborsClassifier(n_neighbors=1, metric='precomputed', n_jobs=4)\n"
   ]
  },
  {
   "cell_type": "code",
   "execution_count": null,
   "metadata": {},
   "outputs": [],
   "source": [
    "knn.fit(D, y_tr)"
   ]
  },
  {
   "cell_type": "code",
   "execution_count": null,
   "metadata": {},
   "outputs": [],
   "source": [
    "y_pred = knn.predict(D_val)"
   ]
  },
  {
   "cell_type": "code",
   "execution_count": null,
   "metadata": {},
   "outputs": [],
   "source": [
    "evaluation(y_val, y_pred)\n",
    "# with X: Acc = 0.759, BAcc: 0.764"
   ]
  },
  {
   "cell_type": "markdown",
   "metadata": {},
   "source": [
    "# Gridsearch"
   ]
  },
  {
   "cell_type": "code",
   "execution_count": 94,
   "metadata": {},
   "outputs": [],
   "source": [
    "parameters = {'n_estimators': [100],\n",
    "              'learning_rate':[0.1,0.05],\n",
    "              'boosting_type': ['gbdt', 'dart'],\n",
    "              'num_leaves':[15,30],\n",
    "              'max_depth': [10,-1],\n",
    "             }"
   ]
  },
  {
   "cell_type": "code",
   "execution_count": 95,
   "metadata": {},
   "outputs": [],
   "source": [
    "from sklearn.model_selection import GridSearchCV\n"
   ]
  },
  {
   "cell_type": "code",
   "execution_count": 96,
   "metadata": {},
   "outputs": [],
   "source": [
    "cv = GridSearchCV(est, parameters, scoring='accuracy', cv=3)"
   ]
  },
  {
   "cell_type": "code",
   "execution_count": 97,
   "metadata": {},
   "outputs": [
    {
     "name": "stderr",
     "output_type": "stream",
     "text": [
      "/Users/mimoor/.local/share/virtualenvs/GP_Signatures-xG0UHQjJ/lib/python3.7/site-packages/sklearn/model_selection/_search.py:814: DeprecationWarning: The default of the `iid` parameter will change from True to False in version 0.22 and will be removed in 0.24. This will change numeric results when test-set sizes are unequal.\n",
      "  DeprecationWarning)\n"
     ]
    },
    {
     "data": {
      "text/plain": [
       "GridSearchCV(cv=3, error_score='raise-deprecating',\n",
       "             estimator=LGBMClassifier(boosting_type='gbdt',\n",
       "                                      class_weight='balanced',\n",
       "                                      colsample_bytree=1.0,\n",
       "                                      importance_type='split',\n",
       "                                      learning_rate=0.1, max_depth=-1,\n",
       "                                      min_child_samples=20,\n",
       "                                      min_child_weight=0.001,\n",
       "                                      min_split_gain=0.0, n_estimators=400,\n",
       "                                      n_jobs=4, num_leaves=31,\n",
       "                                      objective='binary', random_state=42,\n",
       "                                      reg_alpha=0.0, reg_lambda=0.0,\n",
       "                                      silent=True, subsample=1.0,\n",
       "                                      subsample_for_bin=200000,\n",
       "                                      subsample_freq=0),\n",
       "             iid='warn', n_jobs=None,\n",
       "             param_grid={'boosting_type': ['gbdt', 'dart'],\n",
       "                         'learning_rate': [0.1, 0.05], 'max_depth': [10, -1],\n",
       "                         'n_estimators': [100], 'num_leaves': [15, 30]},\n",
       "             pre_dispatch='2*n_jobs', refit=True, return_train_score=False,\n",
       "             scoring='accuracy', verbose=0)"
      ]
     },
     "execution_count": 97,
     "metadata": {},
     "output_type": "execute_result"
    }
   ],
   "source": [
    "cv.fit(Z_train, y_train)"
   ]
  },
  {
   "cell_type": "code",
   "execution_count": 75,
   "metadata": {},
   "outputs": [
    {
     "name": "stdout",
     "output_type": "stream",
     "text": [
      "Accuracy: 0.49709639953542395, Balanced Accuracy: 0.5\n"
     ]
    }
   ],
   "source": [
    "y_pred = cv.best_estimator_.predict(Z_test)\n",
    "\n",
    "acc = accuracy_score(y_test, y_pred)\n",
    "bal = balanced_accuracy_score(y_test, y_pred)\n",
    "\n",
    "print(f'Accuracy: {acc}, Balanced Accuracy: {bal}')"
   ]
  },
  {
   "cell_type": "markdown",
   "metadata": {},
   "source": [
    "# Randomized Search"
   ]
  },
  {
   "cell_type": "code",
   "execution_count": 182,
   "metadata": {},
   "outputs": [],
   "source": [
    "from scipy.stats import randint as sp_randint\n",
    "from scipy.stats import uniform as sp_uniform\n",
    "from sklearn.model_selection import RandomizedSearchCV\n",
    "from time import time"
   ]
  },
  {
   "cell_type": "code",
   "execution_count": 179,
   "metadata": {},
   "outputs": [],
   "source": [
    "param_dist ={'boosting_type': ['gbdt', 'dart'],\n",
    "            'learning_rate':[0.001, 0.1, 0.05, 0.01],\n",
    "            'num_leaves': sp_randint(6, 50), \n",
    "            'min_child_samples': sp_randint(2, 100), \n",
    "            'min_child_weight': [1e-5, 1e-3, 1e-2, 1e-1, 1, 1e1, 1e2, 1e3, 1e4],\n",
    "            'subsample': sp_uniform(loc=0.2, scale=0.8), \n",
    "            'colsample_bytree': sp_uniform(loc=0.4, scale=0.6),\n",
    "            'reg_alpha': [0, 1e-1, 1, 2, 5, 7, 10, 50, 100],\n",
    "            'reg_lambda': [0, 1e-1, 1, 5, 10, 20, 50, 100]}"
   ]
  },
  {
   "cell_type": "code",
   "execution_count": 185,
   "metadata": {},
   "outputs": [],
   "source": [
    "# Utility function to report best scores\n",
    "def report(results, n_top=3):\n",
    "    for i in range(1, n_top + 1):\n",
    "        candidates = np.flatnonzero(results['rank_test_score'] == i)\n",
    "        for candidate in candidates:\n",
    "            print(\"Model with rank: {0}\".format(i))\n",
    "            print(\"Mean validation score: {0:.3f} (std: {1:.3f})\".format(\n",
    "                  results['mean_test_score'][candidate],\n",
    "                  results['std_test_score'][candidate]))\n",
    "            print(\"Parameters: {0}\".format(results['params'][candidate]))\n",
    "            print(\"\")"
   ]
  },
  {
   "cell_type": "code",
   "execution_count": 193,
   "metadata": {},
   "outputs": [],
   "source": [
    "# run randomized search\n",
    "n_iter_search = 20\n",
    "rs = RandomizedSearchCV(est, param_distributions=param_dist,\n",
    "                                   n_iter=n_iter_search, cv=3, iid=False)"
   ]
  },
  {
   "cell_type": "code",
   "execution_count": 194,
   "metadata": {},
   "outputs": [
    {
     "name": "stdout",
     "output_type": "stream",
     "text": [
      "RandomizedSearchCV took 98.90 seconds for 20 candidates parameter settings.\n",
      "Model with rank: 1\n",
      "Mean validation score: 0.645 (std: 0.044)\n",
      "Parameters: {'boosting_type': 'gbdt', 'colsample_bytree': 0.9029972228266827, 'learning_rate': 0.1, 'min_child_samples': 2, 'min_child_weight': 1, 'num_leaves': 11, 'reg_alpha': 0, 'reg_lambda': 10, 'subsample': 0.9997741386289045}\n",
      "\n",
      "Model with rank: 2\n",
      "Mean validation score: 0.619 (std: 0.051)\n",
      "Parameters: {'boosting_type': 'dart', 'colsample_bytree': 0.820581478875472, 'learning_rate': 0.1, 'min_child_samples': 10, 'min_child_weight': 0.001, 'num_leaves': 32, 'reg_alpha': 0.1, 'reg_lambda': 10, 'subsample': 0.6106609349539143}\n",
      "\n",
      "Model with rank: 3\n",
      "Mean validation score: 0.529 (std: 0.018)\n",
      "Parameters: {'boosting_type': 'gbdt', 'colsample_bytree': 0.8108387035323276, 'learning_rate': 0.001, 'min_child_samples': 14, 'min_child_weight': 0.01, 'num_leaves': 11, 'reg_alpha': 0.1, 'reg_lambda': 1, 'subsample': 0.7805756067106879}\n",
      "\n"
     ]
    }
   ],
   "source": [
    "start = time()\n",
    "rs.fit(S_train, y_train)\n",
    "print(\"RandomizedSearchCV took %.2f seconds for %d candidates\"\n",
    "      \" parameter settings.\" % ((time() - start), n_iter_search))\n",
    "report(rs.cv_results_)"
   ]
  },
  {
   "cell_type": "code",
   "execution_count": 195,
   "metadata": {},
   "outputs": [
    {
     "name": "stdout",
     "output_type": "stream",
     "text": [
      "Accuracy: 0.6230769230769231, Balanced Accuracy: 0.6325601330102878\n"
     ]
    }
   ],
   "source": [
    "y_pred = rs.best_estimator_.predict(S_test)\n",
    "\n",
    "acc = accuracy_score(y_test, y_pred)\n",
    "bal = balanced_accuracy_score(y_test, y_pred)\n",
    "\n",
    "print(f'Accuracy: {acc}, Balanced Accuracy: {bal}')"
   ]
  },
  {
   "cell_type": "code",
   "execution_count": null,
   "metadata": {},
   "outputs": [],
   "source": []
  }
 ],
 "metadata": {
  "kernelspec": {
   "display_name": "GP_sig",
   "language": "python",
   "name": "gp_sig"
  },
  "language_info": {
   "codemirror_mode": {
    "name": "ipython",
    "version": 3
   },
   "file_extension": ".py",
   "mimetype": "text/x-python",
   "name": "python",
   "nbconvert_exporter": "python",
   "pygments_lexer": "ipython3",
   "version": "3.7.4"
  }
 },
 "nbformat": 4,
 "nbformat_minor": 2
}
